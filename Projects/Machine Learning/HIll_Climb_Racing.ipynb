{
 "cells": [
  {
   "cell_type": "code",
   "execution_count": 5,
   "id": "8a1b2027",
   "metadata": {},
   "outputs": [],
   "source": [
    "import mediapipe as mp"
   ]
  },
  {
   "cell_type": "code",
   "execution_count": 6,
   "id": "b4154451",
   "metadata": {},
   "outputs": [],
   "source": [
    "import cv2"
   ]
  },
  {
   "cell_type": "code",
   "execution_count": 7,
   "id": "9a14ad6a",
   "metadata": {},
   "outputs": [],
   "source": [
    "import pydirectinput"
   ]
  },
  {
   "cell_type": "code",
   "execution_count": 12,
   "id": "91fb86c5",
   "metadata": {},
   "outputs": [],
   "source": [
    "mp_pose=mp.solutions.pose\n",
    "cap  = cv2.VideoCapture(0)\n",
    "mp_holistic = mp.solutions.holistic\n",
    "with mp_holistic.Holistic(min_detection_confidence = 0.5,min_tracking_confidence=0.5) as holistic :\n",
    "    while True :\n",
    "        _,frame = cap.read()\n",
    "        cvtImg = cv2.cvtColor(frame,cv2.COLOR_BGR2RGB)\n",
    "        res = holistic.process(cvtImg)\n",
    "        height,width,_ = frame.shape\n",
    "        position='Nothing'\n",
    "        \n",
    "        if res.left_hand_landmarks :\n",
    "            left_hand = (res.pose_landmarks.landmark[mp_pose.PoseLandmark.RIGHT_WRIST].x*width,\n",
    "                        res.pose_landmarks.landmark[mp_pose.PoseLandmark.RIGHT_WRIST].y*height)\n",
    "            middle_point = height//2\n",
    "            \n",
    "            if left_hand[1]<middle_point:\n",
    "                position='acc'\n",
    "                pydirectinput.keyUp('left')\n",
    "                pydirectinput.keyDown('right')\n",
    "    \n",
    "              \n",
    "            elif left_hand[1]>middle_point:\n",
    "                position='break'\n",
    "                pydirectinput.keyUp('right')    \n",
    "                pydirectinput.keyDown('left')                                                                       \n",
    "            else:\n",
    "                position='Nothing'\n",
    "                pydirectinput.keyUp('left') \n",
    "                pydirectinput.keyUp('right')\n",
    "        cv2.putText(frame,position,(20,20),cv2.FONT_HERSHEY_PLAIN,2,(255,0,0),2)\n",
    "        cv2.line(frame,(0,height//2),(width,height//2),(0,255,0),2)\n",
    "        cv2.imshow(\"win1\",frame)\n",
    "        if cv2.waitKey(1)==ord('q'):\n",
    "            break\n",
    "cv2.destroyAllWindows()\n",
    "cap.release()"
   ]
  },
  {
   "cell_type": "code",
   "execution_count": null,
   "id": "32557040",
   "metadata": {},
   "outputs": [],
   "source": []
  }
 ],
 "metadata": {
  "kernelspec": {
   "display_name": "Python 3 (ipykernel)",
   "language": "python",
   "name": "python3"
  },
  "language_info": {
   "codemirror_mode": {
    "name": "ipython",
    "version": 3
   },
   "file_extension": ".py",
   "mimetype": "text/x-python",
   "name": "python",
   "nbconvert_exporter": "python",
   "pygments_lexer": "ipython3",
   "version": "3.10.4"
  }
 },
 "nbformat": 4,
 "nbformat_minor": 5
}
