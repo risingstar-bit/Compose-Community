{
 "cells": [
  {
   "cell_type": "code",
   "execution_count": 1,
   "id": "7082a947",
   "metadata": {
    "execution": {
     "iopub.execute_input": "2021-12-05T07:13:11.802789Z",
     "iopub.status.busy": "2021-12-05T07:13:11.801967Z",
     "iopub.status.idle": "2021-12-05T07:13:11.805337Z",
     "shell.execute_reply": "2021-12-05T07:13:11.805785Z",
     "shell.execute_reply.started": "2021-12-05T06:57:07.393973Z"
    },
    "id": "nn2RBa2SePR-",
    "papermill": {
     "duration": 0.043064,
     "end_time": "2021-12-05T07:13:11.806086",
     "exception": false,
     "start_time": "2021-12-05T07:13:11.763022",
     "status": "completed"
    },
    "tags": []
   },
   "outputs": [],
   "source": [
    "import pandas as pd\n",
    "import numpy as np"
   ]
  },
  {
   "cell_type": "code",
   "execution_count": 2,
   "id": "a5ba6552",
   "metadata": {
    "execution": {
     "iopub.execute_input": "2021-12-05T07:13:11.859750Z",
     "iopub.status.busy": "2021-12-05T07:13:11.857098Z",
     "iopub.status.idle": "2021-12-05T07:13:11.862238Z",
     "shell.execute_reply": "2021-12-05T07:13:11.861734Z",
     "shell.execute_reply.started": "2021-12-05T06:57:07.400823Z"
    },
    "papermill": {
     "duration": 0.035663,
     "end_time": "2021-12-05T07:13:11.862371",
     "exception": false,
     "start_time": "2021-12-05T07:13:11.826708",
     "status": "completed"
    },
    "tags": []
   },
   "outputs": [],
   "source": [
    "def reduce_memory_usage(df, verbose=True):\n",
    "    numerics = [\"int8\", \"int16\", \"int32\", \"int64\", \"float16\", \"float32\", \"float64\"]\n",
    "    start_mem = df.memory_usage().sum() / 1024 ** 2\n",
    "    for col in df.columns:\n",
    "        col_type = df[col].dtypes\n",
    "        if col_type in numerics:\n",
    "            c_min = df[col].min()\n",
    "            c_max = df[col].max()\n",
    "            if str(col_type)[:3] == \"int\":\n",
    "                if c_min > np.iinfo(np.int8).min and c_max < np.iinfo(np.int8).max:\n",
    "                    df[col] = df[col].astype(np.int8)\n",
    "                elif c_min > np.iinfo(np.int16).min and c_max < np.iinfo(np.int16).max:\n",
    "                    df[col] = df[col].astype(np.int16)\n",
    "                elif c_min > np.iinfo(np.int32).min and c_max < np.iinfo(np.int32).max:\n",
    "                    df[col] = df[col].astype(np.int32)\n",
    "                elif c_min > np.iinfo(np.int64).min and c_max < np.iinfo(np.int64).max:\n",
    "                    df[col] = df[col].astype(np.int64)\n",
    "            else:\n",
    "                if (\n",
    "                    c_min > np.finfo(np.float16).min\n",
    "                    and c_max < np.finfo(np.float16).max\n",
    "                ):\n",
    "                    df[col] = df[col].astype(np.float16)\n",
    "                elif (\n",
    "                    c_min > np.finfo(np.float32).min\n",
    "                    and c_max < np.finfo(np.float32).max\n",
    "                ):\n",
    "                    df[col] = df[col].astype(np.float32)\n",
    "                else:\n",
    "                    df[col] = df[col].astype(np.float64)\n",
    "    end_mem = df.memory_usage().sum() / 1024 ** 2\n",
    "    if verbose:\n",
    "        print(\n",
    "            \"Mem. usage decreased to {:.2f} Mb ({:.1f}% reduction)\".format(\n",
    "                end_mem, 100 * (start_mem - end_mem) / start_mem\n",
    "            )\n",
    "        )\n",
    "    return df"
   ]
  },
  {
   "cell_type": "code",
   "execution_count": 3,
   "id": "6c0bddbb",
   "metadata": {
    "execution": {
     "iopub.execute_input": "2021-12-05T07:13:11.906933Z",
     "iopub.status.busy": "2021-12-05T07:13:11.906030Z",
     "iopub.status.idle": "2021-12-05T07:13:12.227181Z",
     "shell.execute_reply": "2021-12-05T07:13:12.227692Z",
     "shell.execute_reply.started": "2021-12-05T06:57:07.417985Z"
    },
    "id": "EGx1Ie-fUYiY",
    "papermill": {
     "duration": 0.344841,
     "end_time": "2021-12-05T07:13:12.227878",
     "exception": false,
     "start_time": "2021-12-05T07:13:11.883037",
     "status": "completed"
    },
    "tags": []
   },
   "outputs": [
    {
     "name": "stdout",
     "output_type": "stream",
     "text": [
      "Mem. usage decreased to 3.00 Mb (52.1% reduction)\n",
      "Mem. usage decreased to 0.74 Mb (50.0% reduction)\n",
      "Mem. usage decreased to 0.00 Mb (43.8% reduction)\n"
     ]
    }
   ],
   "source": [
    "train=pd.read_csv(\"../input/amexpert/dataset/train.csv\").drop('customer_id', axis=1)\n",
    "train=train.fillna(0.5)\n",
    "train= reduce_memory_usage(train)\n",
    "test=pd.read_csv(\"../input/amexpert/dataset/test.csv\").fillna(1)\n",
    "cust=test['customer_id']\n",
    "test=test.drop('customer_id', axis=1)\n",
    "test = reduce_memory_usage(test)\n",
    "submission=pd.read_csv(\"../input/amexpert/dataset/sample_submission.csv\").drop('customer_id', axis=1)\n",
    "submission.dropna(inplace=True)\n",
    "submission = reduce_memory_usage(submission)"
   ]
  },
  {
   "cell_type": "code",
   "execution_count": 4,
   "id": "fb92684d",
   "metadata": {
    "execution": {
     "iopub.execute_input": "2021-12-05T07:13:12.274051Z",
     "iopub.status.busy": "2021-12-05T07:13:12.273158Z",
     "iopub.status.idle": "2021-12-05T07:13:12.293795Z",
     "shell.execute_reply": "2021-12-05T07:13:12.294256Z",
     "shell.execute_reply.started": "2021-12-05T06:57:07.710641Z"
    },
    "papermill": {
     "duration": 0.045044,
     "end_time": "2021-12-05T07:13:12.294433",
     "exception": false,
     "start_time": "2021-12-05T07:13:12.249389",
     "status": "completed"
    },
    "tags": []
   },
   "outputs": [
    {
     "name": "stdout",
     "output_type": "stream",
     "text": [
      "<class 'pandas.core.frame.DataFrame'>\n",
      "RangeIndex: 11383 entries, 0 to 11382\n",
      "Data columns (total 17 columns):\n",
      " #   Column                   Non-Null Count  Dtype  \n",
      "---  ------                   --------------  -----  \n",
      " 0   name                     11383 non-null  object \n",
      " 1   age                      11383 non-null  int8   \n",
      " 2   gender                   11383 non-null  object \n",
      " 3   owns_car                 11383 non-null  object \n",
      " 4   owns_house               11383 non-null  object \n",
      " 5   no_of_children           11383 non-null  float16\n",
      " 6   net_yearly_income        11383 non-null  float32\n",
      " 7   no_of_days_employed      11383 non-null  float32\n",
      " 8   occupation_type          11383 non-null  object \n",
      " 9   total_family_members     11383 non-null  float16\n",
      " 10  migrant_worker           11383 non-null  float16\n",
      " 11  yearly_debt_payments     11383 non-null  float32\n",
      " 12  credit_limit             11383 non-null  float32\n",
      " 13  credit_limit_used(%)     11383 non-null  int8   \n",
      " 14  credit_score             11383 non-null  float16\n",
      " 15  prev_defaults            11383 non-null  int8   \n",
      " 16  default_in_last_6months  11383 non-null  int8   \n",
      "dtypes: float16(4), float32(4), int8(4), object(5)\n",
      "memory usage: 756.0+ KB\n"
     ]
    }
   ],
   "source": [
    "#test.fillna(0)\n",
    "test.info()"
   ]
  },
  {
   "cell_type": "code",
   "execution_count": 5,
   "id": "16321536",
   "metadata": {
    "execution": {
     "iopub.execute_input": "2021-12-05T07:13:12.340684Z",
     "iopub.status.busy": "2021-12-05T07:13:12.340059Z",
     "iopub.status.idle": "2021-12-05T07:13:12.371059Z",
     "shell.execute_reply": "2021-12-05T07:13:12.370527Z",
     "shell.execute_reply.started": "2021-12-05T06:57:07.732782Z"
    },
    "id": "X27VnCljVMAP",
    "outputId": "c74ae6e8-2deb-4824-fc26-aaf16ae52a11",
    "papermill": {
     "duration": 0.054705,
     "end_time": "2021-12-05T07:13:12.371235",
     "exception": false,
     "start_time": "2021-12-05T07:13:12.316530",
     "status": "completed"
    },
    "tags": []
   },
   "outputs": [
    {
     "name": "stdout",
     "output_type": "stream",
     "text": [
      "(45528, 18)\n",
      "Index(['name', 'age', 'gender', 'owns_car', 'owns_house', 'no_of_children',\n",
      "       'net_yearly_income', 'no_of_days_employed', 'occupation_type',\n",
      "       'total_family_members', 'migrant_worker', 'yearly_debt_payments',\n",
      "       'credit_limit', 'credit_limit_used(%)', 'credit_score', 'prev_defaults',\n",
      "       'default_in_last_6months', 'credit_card_default'],\n",
      "      dtype='object')\n"
     ]
    },
    {
     "data": {
      "text/html": [
       "<div>\n",
       "<style scoped>\n",
       "    .dataframe tbody tr th:only-of-type {\n",
       "        vertical-align: middle;\n",
       "    }\n",
       "\n",
       "    .dataframe tbody tr th {\n",
       "        vertical-align: top;\n",
       "    }\n",
       "\n",
       "    .dataframe thead th {\n",
       "        text-align: right;\n",
       "    }\n",
       "</style>\n",
       "<table border=\"1\" class=\"dataframe\">\n",
       "  <thead>\n",
       "    <tr style=\"text-align: right;\">\n",
       "      <th></th>\n",
       "      <th>name</th>\n",
       "      <th>age</th>\n",
       "      <th>gender</th>\n",
       "      <th>owns_car</th>\n",
       "      <th>owns_house</th>\n",
       "      <th>no_of_children</th>\n",
       "      <th>net_yearly_income</th>\n",
       "      <th>no_of_days_employed</th>\n",
       "      <th>occupation_type</th>\n",
       "      <th>total_family_members</th>\n",
       "      <th>migrant_worker</th>\n",
       "      <th>yearly_debt_payments</th>\n",
       "      <th>credit_limit</th>\n",
       "      <th>credit_limit_used(%)</th>\n",
       "      <th>credit_score</th>\n",
       "      <th>prev_defaults</th>\n",
       "      <th>default_in_last_6months</th>\n",
       "      <th>credit_card_default</th>\n",
       "    </tr>\n",
       "  </thead>\n",
       "  <tbody>\n",
       "    <tr>\n",
       "      <th>0</th>\n",
       "      <td>ita Bose</td>\n",
       "      <td>46</td>\n",
       "      <td>F</td>\n",
       "      <td>N</td>\n",
       "      <td>Y</td>\n",
       "      <td>0.0</td>\n",
       "      <td>107934.039062</td>\n",
       "      <td>612.0</td>\n",
       "      <td>Unknown</td>\n",
       "      <td>1.0</td>\n",
       "      <td>1.0</td>\n",
       "      <td>33070.281250</td>\n",
       "      <td>18690.929688</td>\n",
       "      <td>73</td>\n",
       "      <td>544.0</td>\n",
       "      <td>2</td>\n",
       "      <td>1</td>\n",
       "      <td>1</td>\n",
       "    </tr>\n",
       "    <tr>\n",
       "      <th>1</th>\n",
       "      <td>Alper Jonathan</td>\n",
       "      <td>29</td>\n",
       "      <td>M</td>\n",
       "      <td>N</td>\n",
       "      <td>Y</td>\n",
       "      <td>0.0</td>\n",
       "      <td>109862.617188</td>\n",
       "      <td>2771.0</td>\n",
       "      <td>Laborers</td>\n",
       "      <td>2.0</td>\n",
       "      <td>0.0</td>\n",
       "      <td>15329.530273</td>\n",
       "      <td>37745.191406</td>\n",
       "      <td>52</td>\n",
       "      <td>857.0</td>\n",
       "      <td>0</td>\n",
       "      <td>0</td>\n",
       "      <td>0</td>\n",
       "    </tr>\n",
       "    <tr>\n",
       "      <th>2</th>\n",
       "      <td>Umesh Desai</td>\n",
       "      <td>37</td>\n",
       "      <td>M</td>\n",
       "      <td>N</td>\n",
       "      <td>Y</td>\n",
       "      <td>0.0</td>\n",
       "      <td>230153.171875</td>\n",
       "      <td>204.0</td>\n",
       "      <td>Laborers</td>\n",
       "      <td>2.0</td>\n",
       "      <td>0.0</td>\n",
       "      <td>48416.601562</td>\n",
       "      <td>41598.359375</td>\n",
       "      <td>43</td>\n",
       "      <td>650.0</td>\n",
       "      <td>0</td>\n",
       "      <td>0</td>\n",
       "      <td>0</td>\n",
       "    </tr>\n",
       "    <tr>\n",
       "      <th>3</th>\n",
       "      <td>Rie</td>\n",
       "      <td>39</td>\n",
       "      <td>F</td>\n",
       "      <td>N</td>\n",
       "      <td>Y</td>\n",
       "      <td>0.0</td>\n",
       "      <td>122325.820312</td>\n",
       "      <td>11941.0</td>\n",
       "      <td>Core staff</td>\n",
       "      <td>2.0</td>\n",
       "      <td>0.0</td>\n",
       "      <td>22574.359375</td>\n",
       "      <td>32627.759766</td>\n",
       "      <td>20</td>\n",
       "      <td>754.0</td>\n",
       "      <td>0</td>\n",
       "      <td>0</td>\n",
       "      <td>0</td>\n",
       "    </tr>\n",
       "    <tr>\n",
       "      <th>4</th>\n",
       "      <td>McCool</td>\n",
       "      <td>46</td>\n",
       "      <td>M</td>\n",
       "      <td>Y</td>\n",
       "      <td>Y</td>\n",
       "      <td>0.0</td>\n",
       "      <td>387286.000000</td>\n",
       "      <td>1459.0</td>\n",
       "      <td>Core staff</td>\n",
       "      <td>1.0</td>\n",
       "      <td>0.0</td>\n",
       "      <td>38282.949219</td>\n",
       "      <td>52950.640625</td>\n",
       "      <td>75</td>\n",
       "      <td>927.0</td>\n",
       "      <td>0</td>\n",
       "      <td>0</td>\n",
       "      <td>0</td>\n",
       "    </tr>\n",
       "  </tbody>\n",
       "</table>\n",
       "</div>"
      ],
      "text/plain": [
       "             name  age gender owns_car owns_house  no_of_children  \\\n",
       "0        ita Bose   46      F        N          Y             0.0   \n",
       "1  Alper Jonathan   29      M        N          Y             0.0   \n",
       "2     Umesh Desai   37      M        N          Y             0.0   \n",
       "3             Rie   39      F        N          Y             0.0   \n",
       "4          McCool   46      M        Y          Y             0.0   \n",
       "\n",
       "   net_yearly_income  no_of_days_employed occupation_type  \\\n",
       "0      107934.039062                612.0         Unknown   \n",
       "1      109862.617188               2771.0        Laborers   \n",
       "2      230153.171875                204.0        Laborers   \n",
       "3      122325.820312              11941.0      Core staff   \n",
       "4      387286.000000               1459.0      Core staff   \n",
       "\n",
       "   total_family_members  migrant_worker  yearly_debt_payments  credit_limit  \\\n",
       "0                   1.0             1.0          33070.281250  18690.929688   \n",
       "1                   2.0             0.0          15329.530273  37745.191406   \n",
       "2                   2.0             0.0          48416.601562  41598.359375   \n",
       "3                   2.0             0.0          22574.359375  32627.759766   \n",
       "4                   1.0             0.0          38282.949219  52950.640625   \n",
       "\n",
       "   credit_limit_used(%)  credit_score  prev_defaults  default_in_last_6months  \\\n",
       "0                    73         544.0              2                        1   \n",
       "1                    52         857.0              0                        0   \n",
       "2                    43         650.0              0                        0   \n",
       "3                    20         754.0              0                        0   \n",
       "4                    75         927.0              0                        0   \n",
       "\n",
       "   credit_card_default  \n",
       "0                    1  \n",
       "1                    0  \n",
       "2                    0  \n",
       "3                    0  \n",
       "4                    0  "
      ]
     },
     "execution_count": 5,
     "metadata": {},
     "output_type": "execute_result"
    }
   ],
   "source": [
    "print(train.shape)\n",
    "print(train.columns)\n",
    "train.head()"
   ]
  },
  {
   "cell_type": "code",
   "execution_count": 6,
   "id": "3711c634",
   "metadata": {
    "execution": {
     "iopub.execute_input": "2021-12-05T07:13:12.422130Z",
     "iopub.status.busy": "2021-12-05T07:13:12.420579Z",
     "iopub.status.idle": "2021-12-05T07:13:12.438938Z",
     "shell.execute_reply": "2021-12-05T07:13:12.438252Z",
     "shell.execute_reply.started": "2021-12-05T06:57:07.761464Z"
    },
    "id": "xGrJhKQqVeuT",
    "outputId": "4391bb92-e129-48d2-9f40-6648bd32ceba",
    "papermill": {
     "duration": 0.045526,
     "end_time": "2021-12-05T07:13:12.439080",
     "exception": false,
     "start_time": "2021-12-05T07:13:12.393554",
     "status": "completed"
    },
    "tags": []
   },
   "outputs": [
    {
     "name": "stdout",
     "output_type": "stream",
     "text": [
      "(11383, 17)\n",
      "Index(['name', 'age', 'gender', 'owns_car', 'owns_house', 'no_of_children',\n",
      "       'net_yearly_income', 'no_of_days_employed', 'occupation_type',\n",
      "       'total_family_members', 'migrant_worker', 'yearly_debt_payments',\n",
      "       'credit_limit', 'credit_limit_used(%)', 'credit_score', 'prev_defaults',\n",
      "       'default_in_last_6months'],\n",
      "      dtype='object')\n"
     ]
    },
    {
     "data": {
      "text/html": [
       "<div>\n",
       "<style scoped>\n",
       "    .dataframe tbody tr th:only-of-type {\n",
       "        vertical-align: middle;\n",
       "    }\n",
       "\n",
       "    .dataframe tbody tr th {\n",
       "        vertical-align: top;\n",
       "    }\n",
       "\n",
       "    .dataframe thead th {\n",
       "        text-align: right;\n",
       "    }\n",
       "</style>\n",
       "<table border=\"1\" class=\"dataframe\">\n",
       "  <thead>\n",
       "    <tr style=\"text-align: right;\">\n",
       "      <th></th>\n",
       "      <th>name</th>\n",
       "      <th>age</th>\n",
       "      <th>gender</th>\n",
       "      <th>owns_car</th>\n",
       "      <th>owns_house</th>\n",
       "      <th>no_of_children</th>\n",
       "      <th>net_yearly_income</th>\n",
       "      <th>no_of_days_employed</th>\n",
       "      <th>occupation_type</th>\n",
       "      <th>total_family_members</th>\n",
       "      <th>migrant_worker</th>\n",
       "      <th>yearly_debt_payments</th>\n",
       "      <th>credit_limit</th>\n",
       "      <th>credit_limit_used(%)</th>\n",
       "      <th>credit_score</th>\n",
       "      <th>prev_defaults</th>\n",
       "      <th>default_in_last_6months</th>\n",
       "    </tr>\n",
       "  </thead>\n",
       "  <tbody>\n",
       "    <tr>\n",
       "      <th>0</th>\n",
       "      <td>Siva</td>\n",
       "      <td>52</td>\n",
       "      <td>F</td>\n",
       "      <td>Y</td>\n",
       "      <td>N</td>\n",
       "      <td>0.0</td>\n",
       "      <td>232640.531250</td>\n",
       "      <td>998.0</td>\n",
       "      <td>Unknown</td>\n",
       "      <td>2.0</td>\n",
       "      <td>0.0</td>\n",
       "      <td>14406.730469</td>\n",
       "      <td>26524.400391</td>\n",
       "      <td>4</td>\n",
       "      <td>779.0</td>\n",
       "      <td>0</td>\n",
       "      <td>0</td>\n",
       "    </tr>\n",
       "    <tr>\n",
       "      <th>1</th>\n",
       "      <td>Scott</td>\n",
       "      <td>48</td>\n",
       "      <td>F</td>\n",
       "      <td>N</td>\n",
       "      <td>N</td>\n",
       "      <td>1.0</td>\n",
       "      <td>284396.781250</td>\n",
       "      <td>1338.0</td>\n",
       "      <td>Unknown</td>\n",
       "      <td>3.0</td>\n",
       "      <td>0.0</td>\n",
       "      <td>57479.988281</td>\n",
       "      <td>68998.718750</td>\n",
       "      <td>70</td>\n",
       "      <td>806.0</td>\n",
       "      <td>0</td>\n",
       "      <td>0</td>\n",
       "    </tr>\n",
       "    <tr>\n",
       "      <th>2</th>\n",
       "      <td>Victoria</td>\n",
       "      <td>50</td>\n",
       "      <td>F</td>\n",
       "      <td>N</td>\n",
       "      <td>N</td>\n",
       "      <td>1.0</td>\n",
       "      <td>149419.281250</td>\n",
       "      <td>1210.0</td>\n",
       "      <td>Unknown</td>\n",
       "      <td>3.0</td>\n",
       "      <td>0.0</td>\n",
       "      <td>21611.009766</td>\n",
       "      <td>25187.800781</td>\n",
       "      <td>71</td>\n",
       "      <td>528.0</td>\n",
       "      <td>2</td>\n",
       "      <td>0</td>\n",
       "    </tr>\n",
       "    <tr>\n",
       "      <th>3</th>\n",
       "      <td>John McCrank</td>\n",
       "      <td>30</td>\n",
       "      <td>F</td>\n",
       "      <td>N</td>\n",
       "      <td>N</td>\n",
       "      <td>1.0</td>\n",
       "      <td>160437.546875</td>\n",
       "      <td>503.0</td>\n",
       "      <td>Laborers</td>\n",
       "      <td>2.0</td>\n",
       "      <td>1.0</td>\n",
       "      <td>28990.759766</td>\n",
       "      <td>29179.390625</td>\n",
       "      <td>9</td>\n",
       "      <td>815.0</td>\n",
       "      <td>0</td>\n",
       "      <td>0</td>\n",
       "    </tr>\n",
       "    <tr>\n",
       "      <th>4</th>\n",
       "      <td>Martinne</td>\n",
       "      <td>52</td>\n",
       "      <td>M</td>\n",
       "      <td>N</td>\n",
       "      <td>Y</td>\n",
       "      <td>0.0</td>\n",
       "      <td>233480.375000</td>\n",
       "      <td>157.0</td>\n",
       "      <td>Laborers</td>\n",
       "      <td>2.0</td>\n",
       "      <td>1.0</td>\n",
       "      <td>54213.718750</td>\n",
       "      <td>82331.820312</td>\n",
       "      <td>82</td>\n",
       "      <td>613.0</td>\n",
       "      <td>1</td>\n",
       "      <td>1</td>\n",
       "    </tr>\n",
       "  </tbody>\n",
       "</table>\n",
       "</div>"
      ],
      "text/plain": [
       "           name  age gender owns_car owns_house  no_of_children  \\\n",
       "0          Siva   52      F        Y          N             0.0   \n",
       "1         Scott   48      F        N          N             1.0   \n",
       "2      Victoria   50      F        N          N             1.0   \n",
       "3  John McCrank   30      F        N          N             1.0   \n",
       "4      Martinne   52      M        N          Y             0.0   \n",
       "\n",
       "   net_yearly_income  no_of_days_employed occupation_type  \\\n",
       "0      232640.531250                998.0         Unknown   \n",
       "1      284396.781250               1338.0         Unknown   \n",
       "2      149419.281250               1210.0         Unknown   \n",
       "3      160437.546875                503.0        Laborers   \n",
       "4      233480.375000                157.0        Laborers   \n",
       "\n",
       "   total_family_members  migrant_worker  yearly_debt_payments  credit_limit  \\\n",
       "0                   2.0             0.0          14406.730469  26524.400391   \n",
       "1                   3.0             0.0          57479.988281  68998.718750   \n",
       "2                   3.0             0.0          21611.009766  25187.800781   \n",
       "3                   2.0             1.0          28990.759766  29179.390625   \n",
       "4                   2.0             1.0          54213.718750  82331.820312   \n",
       "\n",
       "   credit_limit_used(%)  credit_score  prev_defaults  default_in_last_6months  \n",
       "0                     4         779.0              0                        0  \n",
       "1                    70         806.0              0                        0  \n",
       "2                    71         528.0              2                        0  \n",
       "3                     9         815.0              0                        0  \n",
       "4                    82         613.0              1                        1  "
      ]
     },
     "execution_count": 6,
     "metadata": {},
     "output_type": "execute_result"
    }
   ],
   "source": [
    "print(test.shape)\n",
    "print(test.columns)\n",
    "test.head()"
   ]
  },
  {
   "cell_type": "code",
   "execution_count": 7,
   "id": "0c208647",
   "metadata": {
    "execution": {
     "iopub.execute_input": "2021-12-05T07:13:12.491653Z",
     "iopub.status.busy": "2021-12-05T07:13:12.490074Z",
     "iopub.status.idle": "2021-12-05T07:13:12.506530Z",
     "shell.execute_reply": "2021-12-05T07:13:12.506942Z",
     "shell.execute_reply.started": "2021-12-05T06:57:07.791479Z"
    },
    "id": "ilu5YIjsswvD",
    "outputId": "aa728774-64e4-42ce-e6fb-e21703e842cd",
    "papermill": {
     "duration": 0.045433,
     "end_time": "2021-12-05T07:13:12.507110",
     "exception": false,
     "start_time": "2021-12-05T07:13:12.461677",
     "status": "completed"
    },
    "tags": []
   },
   "outputs": [
    {
     "data": {
      "text/html": [
       "<div>\n",
       "<style scoped>\n",
       "    .dataframe tbody tr th:only-of-type {\n",
       "        vertical-align: middle;\n",
       "    }\n",
       "\n",
       "    .dataframe tbody tr th {\n",
       "        vertical-align: top;\n",
       "    }\n",
       "\n",
       "    .dataframe thead th {\n",
       "        text-align: right;\n",
       "    }\n",
       "</style>\n",
       "<table border=\"1\" class=\"dataframe\">\n",
       "  <thead>\n",
       "    <tr style=\"text-align: right;\">\n",
       "      <th></th>\n",
       "      <th>name</th>\n",
       "      <th>age</th>\n",
       "      <th>gender</th>\n",
       "      <th>owns_car</th>\n",
       "      <th>owns_house</th>\n",
       "      <th>no_of_children</th>\n",
       "      <th>net_yearly_income</th>\n",
       "      <th>no_of_days_employed</th>\n",
       "      <th>occupation_type</th>\n",
       "      <th>total_family_members</th>\n",
       "      <th>migrant_worker</th>\n",
       "      <th>yearly_debt_payments</th>\n",
       "      <th>credit_limit</th>\n",
       "      <th>credit_limit_used(%)</th>\n",
       "      <th>credit_score</th>\n",
       "      <th>prev_defaults</th>\n",
       "      <th>default_in_last_6months</th>\n",
       "      <th>credit_card_default</th>\n",
       "    </tr>\n",
       "  </thead>\n",
       "  <tbody>\n",
       "    <tr>\n",
       "      <th>0</th>\n",
       "      <td>ita Bose</td>\n",
       "      <td>46</td>\n",
       "      <td>F</td>\n",
       "      <td>N</td>\n",
       "      <td>Y</td>\n",
       "      <td>0.0</td>\n",
       "      <td>107934.039062</td>\n",
       "      <td>612.0</td>\n",
       "      <td>Unknown</td>\n",
       "      <td>1.0</td>\n",
       "      <td>1.0</td>\n",
       "      <td>33070.281250</td>\n",
       "      <td>18690.929688</td>\n",
       "      <td>73</td>\n",
       "      <td>544.0</td>\n",
       "      <td>2</td>\n",
       "      <td>1</td>\n",
       "      <td>1</td>\n",
       "    </tr>\n",
       "    <tr>\n",
       "      <th>1</th>\n",
       "      <td>Alper Jonathan</td>\n",
       "      <td>29</td>\n",
       "      <td>M</td>\n",
       "      <td>N</td>\n",
       "      <td>Y</td>\n",
       "      <td>0.0</td>\n",
       "      <td>109862.617188</td>\n",
       "      <td>2771.0</td>\n",
       "      <td>Laborers</td>\n",
       "      <td>2.0</td>\n",
       "      <td>0.0</td>\n",
       "      <td>15329.530273</td>\n",
       "      <td>37745.191406</td>\n",
       "      <td>52</td>\n",
       "      <td>857.0</td>\n",
       "      <td>0</td>\n",
       "      <td>0</td>\n",
       "      <td>0</td>\n",
       "    </tr>\n",
       "    <tr>\n",
       "      <th>2</th>\n",
       "      <td>Umesh Desai</td>\n",
       "      <td>37</td>\n",
       "      <td>M</td>\n",
       "      <td>N</td>\n",
       "      <td>Y</td>\n",
       "      <td>0.0</td>\n",
       "      <td>230153.171875</td>\n",
       "      <td>204.0</td>\n",
       "      <td>Laborers</td>\n",
       "      <td>2.0</td>\n",
       "      <td>0.0</td>\n",
       "      <td>48416.601562</td>\n",
       "      <td>41598.359375</td>\n",
       "      <td>43</td>\n",
       "      <td>650.0</td>\n",
       "      <td>0</td>\n",
       "      <td>0</td>\n",
       "      <td>0</td>\n",
       "    </tr>\n",
       "    <tr>\n",
       "      <th>3</th>\n",
       "      <td>Rie</td>\n",
       "      <td>39</td>\n",
       "      <td>F</td>\n",
       "      <td>N</td>\n",
       "      <td>Y</td>\n",
       "      <td>0.0</td>\n",
       "      <td>122325.820312</td>\n",
       "      <td>11941.0</td>\n",
       "      <td>Core staff</td>\n",
       "      <td>2.0</td>\n",
       "      <td>0.0</td>\n",
       "      <td>22574.359375</td>\n",
       "      <td>32627.759766</td>\n",
       "      <td>20</td>\n",
       "      <td>754.0</td>\n",
       "      <td>0</td>\n",
       "      <td>0</td>\n",
       "      <td>0</td>\n",
       "    </tr>\n",
       "    <tr>\n",
       "      <th>4</th>\n",
       "      <td>McCool</td>\n",
       "      <td>46</td>\n",
       "      <td>M</td>\n",
       "      <td>Y</td>\n",
       "      <td>Y</td>\n",
       "      <td>0.0</td>\n",
       "      <td>387286.000000</td>\n",
       "      <td>1459.0</td>\n",
       "      <td>Core staff</td>\n",
       "      <td>1.0</td>\n",
       "      <td>0.0</td>\n",
       "      <td>38282.949219</td>\n",
       "      <td>52950.640625</td>\n",
       "      <td>75</td>\n",
       "      <td>927.0</td>\n",
       "      <td>0</td>\n",
       "      <td>0</td>\n",
       "      <td>0</td>\n",
       "    </tr>\n",
       "  </tbody>\n",
       "</table>\n",
       "</div>"
      ],
      "text/plain": [
       "             name  age gender owns_car owns_house  no_of_children  \\\n",
       "0        ita Bose   46      F        N          Y             0.0   \n",
       "1  Alper Jonathan   29      M        N          Y             0.0   \n",
       "2     Umesh Desai   37      M        N          Y             0.0   \n",
       "3             Rie   39      F        N          Y             0.0   \n",
       "4          McCool   46      M        Y          Y             0.0   \n",
       "\n",
       "   net_yearly_income  no_of_days_employed occupation_type  \\\n",
       "0      107934.039062                612.0         Unknown   \n",
       "1      109862.617188               2771.0        Laborers   \n",
       "2      230153.171875                204.0        Laborers   \n",
       "3      122325.820312              11941.0      Core staff   \n",
       "4      387286.000000               1459.0      Core staff   \n",
       "\n",
       "   total_family_members  migrant_worker  yearly_debt_payments  credit_limit  \\\n",
       "0                   1.0             1.0          33070.281250  18690.929688   \n",
       "1                   2.0             0.0          15329.530273  37745.191406   \n",
       "2                   2.0             0.0          48416.601562  41598.359375   \n",
       "3                   2.0             0.0          22574.359375  32627.759766   \n",
       "4                   1.0             0.0          38282.949219  52950.640625   \n",
       "\n",
       "   credit_limit_used(%)  credit_score  prev_defaults  default_in_last_6months  \\\n",
       "0                    73         544.0              2                        1   \n",
       "1                    52         857.0              0                        0   \n",
       "2                    43         650.0              0                        0   \n",
       "3                    20         754.0              0                        0   \n",
       "4                    75         927.0              0                        0   \n",
       "\n",
       "   credit_card_default  \n",
       "0                    1  \n",
       "1                    0  \n",
       "2                    0  \n",
       "3                    0  \n",
       "4                    0  "
      ]
     },
     "execution_count": 7,
     "metadata": {},
     "output_type": "execute_result"
    }
   ],
   "source": [
    "train.head()"
   ]
  },
  {
   "cell_type": "code",
   "execution_count": 8,
   "id": "753e61c5",
   "metadata": {
    "execution": {
     "iopub.execute_input": "2021-12-05T07:13:12.573750Z",
     "iopub.status.busy": "2021-12-05T07:13:12.555652Z",
     "iopub.status.idle": "2021-12-05T07:13:12.577005Z",
     "shell.execute_reply": "2021-12-05T07:13:12.577497Z",
     "shell.execute_reply.started": "2021-12-05T06:57:07.814734Z"
    },
    "id": "CF9n0TD3W-4m",
    "outputId": "506752b6-df25-412f-9a2f-76d80e59fdab",
    "papermill": {
     "duration": 0.047567,
     "end_time": "2021-12-05T07:13:12.577667",
     "exception": false,
     "start_time": "2021-12-05T07:13:12.530100",
     "status": "completed"
    },
    "tags": []
   },
   "outputs": [
    {
     "data": {
      "text/html": [
       "<div>\n",
       "<style scoped>\n",
       "    .dataframe tbody tr th:only-of-type {\n",
       "        vertical-align: middle;\n",
       "    }\n",
       "\n",
       "    .dataframe tbody tr th {\n",
       "        vertical-align: top;\n",
       "    }\n",
       "\n",
       "    .dataframe thead th {\n",
       "        text-align: right;\n",
       "    }\n",
       "</style>\n",
       "<table border=\"1\" class=\"dataframe\">\n",
       "  <thead>\n",
       "    <tr style=\"text-align: right;\">\n",
       "      <th></th>\n",
       "      <th>name</th>\n",
       "      <th>age</th>\n",
       "      <th>gender</th>\n",
       "      <th>owns_car</th>\n",
       "      <th>owns_house</th>\n",
       "      <th>no_of_children</th>\n",
       "      <th>net_yearly_income</th>\n",
       "      <th>no_of_days_employed</th>\n",
       "      <th>occupation_type</th>\n",
       "      <th>total_family_members</th>\n",
       "      <th>migrant_worker</th>\n",
       "      <th>yearly_debt_payments</th>\n",
       "      <th>credit_limit</th>\n",
       "      <th>credit_limit_used(%)</th>\n",
       "      <th>credit_score</th>\n",
       "      <th>prev_defaults</th>\n",
       "      <th>default_in_last_6months</th>\n",
       "    </tr>\n",
       "  </thead>\n",
       "  <tbody>\n",
       "    <tr>\n",
       "      <th>0</th>\n",
       "      <td>Siva</td>\n",
       "      <td>52</td>\n",
       "      <td>F</td>\n",
       "      <td>Y</td>\n",
       "      <td>N</td>\n",
       "      <td>0.0</td>\n",
       "      <td>232640.531250</td>\n",
       "      <td>998.0</td>\n",
       "      <td>Unknown</td>\n",
       "      <td>2.0</td>\n",
       "      <td>0.0</td>\n",
       "      <td>14406.730469</td>\n",
       "      <td>26524.400391</td>\n",
       "      <td>4</td>\n",
       "      <td>779.0</td>\n",
       "      <td>0</td>\n",
       "      <td>0</td>\n",
       "    </tr>\n",
       "    <tr>\n",
       "      <th>1</th>\n",
       "      <td>Scott</td>\n",
       "      <td>48</td>\n",
       "      <td>F</td>\n",
       "      <td>N</td>\n",
       "      <td>N</td>\n",
       "      <td>1.0</td>\n",
       "      <td>284396.781250</td>\n",
       "      <td>1338.0</td>\n",
       "      <td>Unknown</td>\n",
       "      <td>3.0</td>\n",
       "      <td>0.0</td>\n",
       "      <td>57479.988281</td>\n",
       "      <td>68998.718750</td>\n",
       "      <td>70</td>\n",
       "      <td>806.0</td>\n",
       "      <td>0</td>\n",
       "      <td>0</td>\n",
       "    </tr>\n",
       "    <tr>\n",
       "      <th>2</th>\n",
       "      <td>Victoria</td>\n",
       "      <td>50</td>\n",
       "      <td>F</td>\n",
       "      <td>N</td>\n",
       "      <td>N</td>\n",
       "      <td>1.0</td>\n",
       "      <td>149419.281250</td>\n",
       "      <td>1210.0</td>\n",
       "      <td>Unknown</td>\n",
       "      <td>3.0</td>\n",
       "      <td>0.0</td>\n",
       "      <td>21611.009766</td>\n",
       "      <td>25187.800781</td>\n",
       "      <td>71</td>\n",
       "      <td>528.0</td>\n",
       "      <td>2</td>\n",
       "      <td>0</td>\n",
       "    </tr>\n",
       "    <tr>\n",
       "      <th>3</th>\n",
       "      <td>John McCrank</td>\n",
       "      <td>30</td>\n",
       "      <td>F</td>\n",
       "      <td>N</td>\n",
       "      <td>N</td>\n",
       "      <td>1.0</td>\n",
       "      <td>160437.546875</td>\n",
       "      <td>503.0</td>\n",
       "      <td>Laborers</td>\n",
       "      <td>2.0</td>\n",
       "      <td>1.0</td>\n",
       "      <td>28990.759766</td>\n",
       "      <td>29179.390625</td>\n",
       "      <td>9</td>\n",
       "      <td>815.0</td>\n",
       "      <td>0</td>\n",
       "      <td>0</td>\n",
       "    </tr>\n",
       "    <tr>\n",
       "      <th>4</th>\n",
       "      <td>Martinne</td>\n",
       "      <td>52</td>\n",
       "      <td>M</td>\n",
       "      <td>N</td>\n",
       "      <td>Y</td>\n",
       "      <td>0.0</td>\n",
       "      <td>233480.375000</td>\n",
       "      <td>157.0</td>\n",
       "      <td>Laborers</td>\n",
       "      <td>2.0</td>\n",
       "      <td>1.0</td>\n",
       "      <td>54213.718750</td>\n",
       "      <td>82331.820312</td>\n",
       "      <td>82</td>\n",
       "      <td>613.0</td>\n",
       "      <td>1</td>\n",
       "      <td>1</td>\n",
       "    </tr>\n",
       "  </tbody>\n",
       "</table>\n",
       "</div>"
      ],
      "text/plain": [
       "           name  age gender owns_car owns_house  no_of_children  \\\n",
       "0          Siva   52      F        Y          N             0.0   \n",
       "1         Scott   48      F        N          N             1.0   \n",
       "2      Victoria   50      F        N          N             1.0   \n",
       "3  John McCrank   30      F        N          N             1.0   \n",
       "4      Martinne   52      M        N          Y             0.0   \n",
       "\n",
       "   net_yearly_income  no_of_days_employed occupation_type  \\\n",
       "0      232640.531250                998.0         Unknown   \n",
       "1      284396.781250               1338.0         Unknown   \n",
       "2      149419.281250               1210.0         Unknown   \n",
       "3      160437.546875                503.0        Laborers   \n",
       "4      233480.375000                157.0        Laborers   \n",
       "\n",
       "   total_family_members  migrant_worker  yearly_debt_payments  credit_limit  \\\n",
       "0                   2.0             0.0          14406.730469  26524.400391   \n",
       "1                   3.0             0.0          57479.988281  68998.718750   \n",
       "2                   3.0             0.0          21611.009766  25187.800781   \n",
       "3                   2.0             1.0          28990.759766  29179.390625   \n",
       "4                   2.0             1.0          54213.718750  82331.820312   \n",
       "\n",
       "   credit_limit_used(%)  credit_score  prev_defaults  default_in_last_6months  \n",
       "0                     4         779.0              0                        0  \n",
       "1                    70         806.0              0                        0  \n",
       "2                    71         528.0              2                        0  \n",
       "3                     9         815.0              0                        0  \n",
       "4                    82         613.0              1                        1  "
      ]
     },
     "execution_count": 8,
     "metadata": {},
     "output_type": "execute_result"
    }
   ],
   "source": [
    "test.head()"
   ]
  },
  {
   "cell_type": "code",
   "execution_count": 9,
   "id": "4d43b912",
   "metadata": {
    "execution": {
     "iopub.execute_input": "2021-12-05T07:13:12.628115Z",
     "iopub.status.busy": "2021-12-05T07:13:12.627378Z",
     "iopub.status.idle": "2021-12-05T07:13:12.648570Z",
     "shell.execute_reply": "2021-12-05T07:13:12.649068Z",
     "shell.execute_reply.started": "2021-12-05T06:57:07.836727Z"
    },
    "id": "LptMhiXAZYxz",
    "outputId": "0dc8cc97-d3ee-4e8e-eb24-c435c6e27eaa",
    "papermill": {
     "duration": 0.048322,
     "end_time": "2021-12-05T07:13:12.649268",
     "exception": false,
     "start_time": "2021-12-05T07:13:12.600946",
     "status": "completed"
    },
    "tags": []
   },
   "outputs": [
    {
     "data": {
      "text/plain": [
       "name                       0\n",
       "age                        0\n",
       "gender                     0\n",
       "owns_car                   0\n",
       "owns_house                 0\n",
       "no_of_children             0\n",
       "net_yearly_income          0\n",
       "no_of_days_employed        0\n",
       "occupation_type            0\n",
       "total_family_members       0\n",
       "migrant_worker             0\n",
       "yearly_debt_payments       0\n",
       "credit_limit               0\n",
       "credit_limit_used(%)       0\n",
       "credit_score               0\n",
       "prev_defaults              0\n",
       "default_in_last_6months    0\n",
       "credit_card_default        0\n",
       "dtype: int64"
      ]
     },
     "execution_count": 9,
     "metadata": {},
     "output_type": "execute_result"
    }
   ],
   "source": [
    "train.isnull().sum()"
   ]
  },
  {
   "cell_type": "code",
   "execution_count": 10,
   "id": "dc23fc58",
   "metadata": {
    "execution": {
     "iopub.execute_input": "2021-12-05T07:13:12.700685Z",
     "iopub.status.busy": "2021-12-05T07:13:12.699947Z",
     "iopub.status.idle": "2021-12-05T07:13:12.708208Z",
     "shell.execute_reply": "2021-12-05T07:13:12.708705Z",
     "shell.execute_reply.started": "2021-12-05T06:57:07.887861Z"
    },
    "id": "bL06QBXJcRBL",
    "outputId": "d097c787-6631-4c77-f937-a8041d8404b2",
    "papermill": {
     "duration": 0.035863,
     "end_time": "2021-12-05T07:13:12.708896",
     "exception": false,
     "start_time": "2021-12-05T07:13:12.673033",
     "status": "completed"
    },
    "tags": []
   },
   "outputs": [
    {
     "data": {
      "text/plain": [
       "F      29957\n",
       "M      15570\n",
       "XNA        1\n",
       "Name: gender, dtype: int64"
      ]
     },
     "execution_count": 10,
     "metadata": {},
     "output_type": "execute_result"
    }
   ],
   "source": [
    "train['gender'].value_counts()"
   ]
  },
  {
   "cell_type": "code",
   "execution_count": 11,
   "id": "55c0fe62",
   "metadata": {
    "execution": {
     "iopub.execute_input": "2021-12-05T07:13:12.759792Z",
     "iopub.status.busy": "2021-12-05T07:13:12.759130Z",
     "iopub.status.idle": "2021-12-05T07:13:12.766031Z",
     "shell.execute_reply": "2021-12-05T07:13:12.766528Z",
     "shell.execute_reply.started": "2021-12-05T06:57:07.905296Z"
    },
    "id": "CFarFVkdgxtr",
    "outputId": "c60ba63c-e6cb-48ff-977d-61b16fc4cc94",
    "papermill": {
     "duration": 0.033832,
     "end_time": "2021-12-05T07:13:12.766702",
     "exception": false,
     "start_time": "2021-12-05T07:13:12.732870",
     "status": "completed"
    },
    "tags": []
   },
   "outputs": [
    {
     "data": {
      "text/plain": [
       "0"
      ]
     },
     "execution_count": 11,
     "metadata": {},
     "output_type": "execute_result"
    }
   ],
   "source": [
    "train['owns_car'].isnull().sum()"
   ]
  },
  {
   "cell_type": "code",
   "execution_count": 12,
   "id": "9a153374",
   "metadata": {
    "execution": {
     "iopub.execute_input": "2021-12-05T07:13:12.819577Z",
     "iopub.status.busy": "2021-12-05T07:13:12.818906Z",
     "iopub.status.idle": "2021-12-05T07:13:12.826720Z",
     "shell.execute_reply": "2021-12-05T07:13:12.827200Z",
     "shell.execute_reply.started": "2021-12-05T06:57:07.921776Z"
    },
    "id": "SVh9jNkTcuqp",
    "outputId": "8fb6cdc3-641e-4986-d742-e7cc5c7eddba",
    "papermill": {
     "duration": 0.035819,
     "end_time": "2021-12-05T07:13:12.827365",
     "exception": false,
     "start_time": "2021-12-05T07:13:12.791546",
     "status": "completed"
    },
    "tags": []
   },
   "outputs": [
    {
     "data": {
      "text/plain": [
       "N      29743\n",
       "Y      15238\n",
       "0.5      547\n",
       "Name: owns_car, dtype: int64"
      ]
     },
     "execution_count": 12,
     "metadata": {},
     "output_type": "execute_result"
    }
   ],
   "source": [
    "train['owns_car'].value_counts()"
   ]
  },
  {
   "cell_type": "code",
   "execution_count": 13,
   "id": "0138912a",
   "metadata": {
    "execution": {
     "iopub.execute_input": "2021-12-05T07:13:12.882946Z",
     "iopub.status.busy": "2021-12-05T07:13:12.882265Z",
     "iopub.status.idle": "2021-12-05T07:13:12.890203Z",
     "shell.execute_reply": "2021-12-05T07:13:12.889714Z",
     "shell.execute_reply.started": "2021-12-05T06:57:07.938340Z"
    },
    "id": "SmyJn5o3dQm4",
    "outputId": "d2b16fe4-695d-4e1c-a169-c33d7ec800a1",
    "papermill": {
     "duration": 0.037323,
     "end_time": "2021-12-05T07:13:12.890352",
     "exception": false,
     "start_time": "2021-12-05T07:13:12.853029",
     "status": "completed"
    },
    "tags": []
   },
   "outputs": [
    {
     "data": {
      "text/plain": [
       "Y    31642\n",
       "N    13886\n",
       "Name: owns_house, dtype: int64"
      ]
     },
     "execution_count": 13,
     "metadata": {},
     "output_type": "execute_result"
    }
   ],
   "source": [
    "train['owns_house'].value_counts()"
   ]
  },
  {
   "cell_type": "code",
   "execution_count": 14,
   "id": "743d342b",
   "metadata": {
    "execution": {
     "iopub.execute_input": "2021-12-05T07:13:12.945040Z",
     "iopub.status.busy": "2021-12-05T07:13:12.944378Z",
     "iopub.status.idle": "2021-12-05T07:13:13.917459Z",
     "shell.execute_reply": "2021-12-05T07:13:13.916905Z",
     "shell.execute_reply.started": "2021-12-05T06:57:07.958210Z"
    },
    "id": "ElYgryQZeeqq",
    "papermill": {
     "duration": 1.000927,
     "end_time": "2021-12-05T07:13:13.917597",
     "exception": false,
     "start_time": "2021-12-05T07:13:12.916670",
     "status": "completed"
    },
    "tags": []
   },
   "outputs": [],
   "source": [
    "from sklearn import preprocessing\n",
    "def Cleandata(data):\n",
    "  data.drop(['name','occupation_type'], axis=1, inplace=True)\n",
    "  data['gender'].replace({'M':0, 'F':1, 'XNA':-1}, inplace=True)\n",
    "  data['owns_car'].replace({'N':0, 'Y':1}, inplace=True)\n",
    "  data['owns_house'].replace({'Y':0, 'N':1}, inplace=True)\n",
    "  return data"
   ]
  },
  {
   "cell_type": "code",
   "execution_count": 15,
   "id": "8021e3db",
   "metadata": {
    "execution": {
     "iopub.execute_input": "2021-12-05T07:13:13.972944Z",
     "iopub.status.busy": "2021-12-05T07:13:13.972256Z",
     "iopub.status.idle": "2021-12-05T07:13:15.591154Z",
     "shell.execute_reply": "2021-12-05T07:13:15.591909Z",
     "shell.execute_reply.started": "2021-12-05T06:57:07.971458Z"
    },
    "papermill": {
     "duration": 1.649283,
     "end_time": "2021-12-05T07:13:15.592257",
     "exception": false,
     "start_time": "2021-12-05T07:13:13.942974",
     "status": "completed"
    },
    "tags": []
   },
   "outputs": [
    {
     "data": {
      "text/plain": [
       "<AxesSubplot:>"
      ]
     },
     "execution_count": 15,
     "metadata": {},
     "output_type": "execute_result"
    },
    {
     "data": {
      "image/png": "[encoded data removed]",
      "text/plain": [
       "<Figure size 1080x720 with 2 Axes>"
      ]
     },
     "metadata": {
      "needs_background": "light"
     },
     "output_type": "display_data"
    }
   ],
   "source": [
    "import matplotlib.pyplot as plt\n",
    "import seaborn as sns\n",
    "\n",
    "plt.figure(figsize=(15, 10))\n",
    "sns.heatmap(train.corr(), annot=True)"
   ]
  },
  {
   "cell_type": "code",
   "execution_count": 16,
   "id": "04468f5b",
   "metadata": {
    "execution": {
     "iopub.execute_input": "2021-12-05T07:13:15.653154Z",
     "iopub.status.busy": "2021-12-05T07:13:15.652551Z",
     "iopub.status.idle": "2021-12-05T07:13:16.215521Z",
     "shell.execute_reply": "2021-12-05T07:13:16.214948Z",
     "shell.execute_reply.started": "2021-12-05T06:57:09.370171Z"
    },
    "papermill": {
     "duration": 0.593628,
     "end_time": "2021-12-05T07:13:16.215679",
     "exception": false,
     "start_time": "2021-12-05T07:13:15.622051",
     "status": "completed"
    },
    "tags": []
   },
   "outputs": [
    {
     "name": "stderr",
     "output_type": "stream",
     "text": [
      "/opt/conda/lib/python3.7/site-packages/seaborn/_decorators.py:43: FutureWarning: Pass the following variables as keyword args: x, y. From version 0.12, the only valid positional argument will be `data`, and passing other arguments without an explicit keyword will result in an error or misinterpretation.\n",
      "  FutureWarning\n"
     ]
    },
    {
     "data": {
      "text/plain": [
       "<AxesSubplot:xlabel='credit_card_default', ylabel='default_in_last_6months'>"
      ]
     },
     "execution_count": 16,
     "metadata": {},
     "output_type": "execute_result"
    },
    {
     "data": {
      "image/png": "[encoded data removed]",
      "text/plain": [
       "<Figure size 432x288 with 1 Axes>"
      ]
     },
     "metadata": {
      "needs_background": "light"
     },
     "output_type": "display_data"
    }
   ],
   "source": [
    "sns.lineplot( train['credit_card_default'], train['default_in_last_6months'])"
   ]
  },
  {
   "cell_type": "code",
   "execution_count": 17,
   "id": "1abaa241",
   "metadata": {
    "execution": {
     "iopub.execute_input": "2021-12-05T07:13:16.282209Z",
     "iopub.status.busy": "2021-12-05T07:13:16.279509Z",
     "iopub.status.idle": "2021-12-05T07:13:16.831025Z",
     "shell.execute_reply": "2021-12-05T07:13:16.831497Z",
     "shell.execute_reply.started": "2021-12-05T06:57:10.100783Z"
    },
    "papermill": {
     "duration": 0.584616,
     "end_time": "2021-12-05T07:13:16.831664",
     "exception": false,
     "start_time": "2021-12-05T07:13:16.247048",
     "status": "completed"
    },
    "tags": []
   },
   "outputs": [
    {
     "name": "stderr",
     "output_type": "stream",
     "text": [
      "/opt/conda/lib/python3.7/site-packages/seaborn/_decorators.py:43: FutureWarning: Pass the following variables as keyword args: x, y. From version 0.12, the only valid positional argument will be `data`, and passing other arguments without an explicit keyword will result in an error or misinterpretation.\n",
      "  FutureWarning\n"
     ]
    },
    {
     "data": {
      "text/plain": [
       "<AxesSubplot:xlabel='credit_card_default', ylabel='prev_defaults'>"
      ]
     },
     "execution_count": 17,
     "metadata": {},
     "output_type": "execute_result"
    },
    {
     "data": {
      "image/png": "[encoded data removed]",
      "text/plain": [
       "<Figure size 432x288 with 1 Axes>"
      ]
     },
     "metadata": {
      "needs_background": "light"
     },
     "output_type": "display_data"
    }
   ],
   "source": [
    "sns.lineplot( train['credit_card_default'], train['prev_defaults'])"
   ]
  },
  {
   "cell_type": "code",
   "execution_count": 18,
   "id": "4a719957",
   "metadata": {
    "execution": {
     "iopub.execute_input": "2021-12-05T07:13:16.897596Z",
     "iopub.status.busy": "2021-12-05T07:13:16.896630Z",
     "iopub.status.idle": "2021-12-05T07:13:17.467895Z",
     "shell.execute_reply": "2021-12-05T07:13:17.468371Z",
     "shell.execute_reply.started": "2021-12-05T06:57:10.717492Z"
    },
    "papermill": {
     "duration": 0.606399,
     "end_time": "2021-12-05T07:13:17.468571",
     "exception": false,
     "start_time": "2021-12-05T07:13:16.862172",
     "status": "completed"
    },
    "tags": []
   },
   "outputs": [
    {
     "name": "stderr",
     "output_type": "stream",
     "text": [
      "/opt/conda/lib/python3.7/site-packages/seaborn/_decorators.py:43: FutureWarning: Pass the following variables as keyword args: x, y. From version 0.12, the only valid positional argument will be `data`, and passing other arguments without an explicit keyword will result in an error or misinterpretation.\n",
      "  FutureWarning\n"
     ]
    },
    {
     "data": {
      "text/plain": [
       "<AxesSubplot:xlabel='prev_defaults', ylabel='default_in_last_6months'>"
      ]
     },
     "execution_count": 18,
     "metadata": {},
     "output_type": "execute_result"
    },
    {
     "data": {
      "image/png": "[encoded data removed]",
      "text/plain": [
       "<Figure size 432x288 with 1 Axes>"
      ]
     },
     "metadata": {
      "needs_background": "light"
     },
     "output_type": "display_data"
    }
   ],
   "source": [
    "sns.lineplot( train['prev_defaults'], train['default_in_last_6months'])"
   ]
  },
  {
   "cell_type": "code",
   "execution_count": 19,
   "id": "29e0010b",
   "metadata": {
    "execution": {
     "iopub.execute_input": "2021-12-05T07:13:17.539061Z",
     "iopub.status.busy": "2021-12-05T07:13:17.535996Z",
     "iopub.status.idle": "2021-12-05T07:13:18.177627Z",
     "shell.execute_reply": "2021-12-05T07:13:18.178065Z",
     "shell.execute_reply.started": "2021-12-05T06:57:11.342563Z"
    },
    "papermill": {
     "duration": 0.677576,
     "end_time": "2021-12-05T07:13:18.178234",
     "exception": false,
     "start_time": "2021-12-05T07:13:17.500658",
     "status": "completed"
    },
    "tags": []
   },
   "outputs": [
    {
     "name": "stderr",
     "output_type": "stream",
     "text": [
      "/opt/conda/lib/python3.7/site-packages/seaborn/_decorators.py:43: FutureWarning: Pass the following variables as keyword args: x, y. From version 0.12, the only valid positional argument will be `data`, and passing other arguments without an explicit keyword will result in an error or misinterpretation.\n",
      "  FutureWarning\n"
     ]
    },
    {
     "data": {
      "text/plain": [
       "<AxesSubplot:xlabel='no_of_children', ylabel='migrant_worker'>"
      ]
     },
     "execution_count": 19,
     "metadata": {},
     "output_type": "execute_result"
    },
    {
     "data": {
      "image/png": "[encoded data removed]",
      "text/plain": [
       "<Figure size 432x288 with 1 Axes>"
      ]
     },
     "metadata": {
      "needs_background": "light"
     },
     "output_type": "display_data"
    }
   ],
   "source": [
    "sns.lineplot( train['no_of_children'], train['migrant_worker'])"
   ]
  },
  {
   "cell_type": "code",
   "execution_count": 20,
   "id": "325f6e0b",
   "metadata": {
    "execution": {
     "iopub.execute_input": "2021-12-05T07:13:18.247891Z",
     "iopub.status.busy": "2021-12-05T07:13:18.247123Z",
     "iopub.status.idle": "2021-12-05T07:13:18.900428Z",
     "shell.execute_reply": "2021-12-05T07:13:18.899928Z",
     "shell.execute_reply.started": "2021-12-05T06:57:12.049495Z"
    },
    "papermill": {
     "duration": 0.688961,
     "end_time": "2021-12-05T07:13:18.900580",
     "exception": false,
     "start_time": "2021-12-05T07:13:18.211619",
     "status": "completed"
    },
    "tags": []
   },
   "outputs": [
    {
     "name": "stderr",
     "output_type": "stream",
     "text": [
      "/opt/conda/lib/python3.7/site-packages/seaborn/_decorators.py:43: FutureWarning: Pass the following variables as keyword args: x, y. From version 0.12, the only valid positional argument will be `data`, and passing other arguments without an explicit keyword will result in an error or misinterpretation.\n",
      "  FutureWarning\n"
     ]
    },
    {
     "data": {
      "text/plain": [
       "<AxesSubplot:xlabel='total_family_members', ylabel='no_of_children'>"
      ]
     },
     "execution_count": 20,
     "metadata": {},
     "output_type": "execute_result"
    },
    {
     "data": {
      "image/png": "[encoded data removed]",
      "text/plain": [
       "<Figure size 432x288 with 1 Axes>"
      ]
     },
     "metadata": {
      "needs_background": "light"
     },
     "output_type": "display_data"
    }
   ],
   "source": [
    "sns.lineplot( train['total_family_members'], train['no_of_children'])"
   ]
  },
  {
   "cell_type": "code",
   "execution_count": 21,
   "id": "8a2b4e7a",
   "metadata": {
    "execution": {
     "iopub.execute_input": "2021-12-05T07:13:18.972601Z",
     "iopub.status.busy": "2021-12-05T07:13:18.971977Z",
     "iopub.status.idle": "2021-12-05T07:13:23.415508Z",
     "shell.execute_reply": "2021-12-05T07:13:23.415958Z",
     "shell.execute_reply.started": "2021-12-05T06:57:12.770774Z"
    },
    "papermill": {
     "duration": 4.481011,
     "end_time": "2021-12-05T07:13:23.416133",
     "exception": false,
     "start_time": "2021-12-05T07:13:18.935122",
     "status": "completed"
    },
    "tags": []
   },
   "outputs": [
    {
     "name": "stderr",
     "output_type": "stream",
     "text": [
      "/opt/conda/lib/python3.7/site-packages/seaborn/_decorators.py:43: FutureWarning: Pass the following variables as keyword args: x, y. From version 0.12, the only valid positional argument will be `data`, and passing other arguments without an explicit keyword will result in an error or misinterpretation.\n",
      "  FutureWarning\n"
     ]
    },
    {
     "data": {
      "text/plain": [
       "<AxesSubplot:xlabel='credit_limit', ylabel='net_yearly_income'>"
      ]
     },
     "execution_count": 21,
     "metadata": {},
     "output_type": "execute_result"
    },
    {
     "data": {
      "image/png": "[encoded data removed]",
      "text/plain": [
       "<Figure size 432x288 with 1 Axes>"
      ]
     },
     "metadata": {
      "needs_background": "light"
     },
     "output_type": "display_data"
    }
   ],
   "source": [
    "sns.lineplot( train['credit_limit'], train['net_yearly_income'])"
   ]
  },
  {
   "cell_type": "code",
   "execution_count": 22,
   "id": "4417b3d1",
   "metadata": {
    "execution": {
     "iopub.execute_input": "2021-12-05T07:13:23.491756Z",
     "iopub.status.busy": "2021-12-05T07:13:23.491069Z",
     "iopub.status.idle": "2021-12-05T07:13:23.562422Z",
     "shell.execute_reply": "2021-12-05T07:13:23.561847Z",
     "shell.execute_reply.started": "2021-12-05T06:57:19.032802Z"
    },
    "id": "9H19drdVFLkb",
    "papermill": {
     "duration": 0.110685,
     "end_time": "2021-12-05T07:13:23.562586",
     "exception": false,
     "start_time": "2021-12-05T07:13:23.451901",
     "status": "completed"
    },
    "tags": []
   },
   "outputs": [],
   "source": [
    "cleantrain= Cleandata(train)\n",
    "cleantest= Cleandata(test)"
   ]
  },
  {
   "cell_type": "code",
   "execution_count": 23,
   "id": "202481cc",
   "metadata": {
    "execution": {
     "iopub.execute_input": "2021-12-05T07:13:23.653279Z",
     "iopub.status.busy": "2021-12-05T07:13:23.652658Z",
     "iopub.status.idle": "2021-12-05T07:13:23.657138Z",
     "shell.execute_reply": "2021-12-05T07:13:23.657634Z",
     "shell.execute_reply.started": "2021-12-05T06:57:19.159368Z"
    },
    "id": "KonTe4YcGFyB",
    "outputId": "9bfbd79d-24cc-4316-8735-990e3f8e7044",
    "papermill": {
     "duration": 0.058684,
     "end_time": "2021-12-05T07:13:23.657799",
     "exception": false,
     "start_time": "2021-12-05T07:13:23.599115",
     "status": "completed"
    },
    "tags": []
   },
   "outputs": [
    {
     "data": {
      "text/html": [
       "<div>\n",
       "<style scoped>\n",
       "    .dataframe tbody tr th:only-of-type {\n",
       "        vertical-align: middle;\n",
       "    }\n",
       "\n",
       "    .dataframe tbody tr th {\n",
       "        vertical-align: top;\n",
       "    }\n",
       "\n",
       "    .dataframe thead th {\n",
       "        text-align: right;\n",
       "    }\n",
       "</style>\n",
       "<table border=\"1\" class=\"dataframe\">\n",
       "  <thead>\n",
       "    <tr style=\"text-align: right;\">\n",
       "      <th></th>\n",
       "      <th>age</th>\n",
       "      <th>gender</th>\n",
       "      <th>owns_car</th>\n",
       "      <th>owns_house</th>\n",
       "      <th>no_of_children</th>\n",
       "      <th>net_yearly_income</th>\n",
       "      <th>no_of_days_employed</th>\n",
       "      <th>total_family_members</th>\n",
       "      <th>migrant_worker</th>\n",
       "      <th>yearly_debt_payments</th>\n",
       "      <th>credit_limit</th>\n",
       "      <th>credit_limit_used(%)</th>\n",
       "      <th>credit_score</th>\n",
       "      <th>prev_defaults</th>\n",
       "      <th>default_in_last_6months</th>\n",
       "      <th>credit_card_default</th>\n",
       "    </tr>\n",
       "  </thead>\n",
       "  <tbody>\n",
       "    <tr>\n",
       "      <th>0</th>\n",
       "      <td>46</td>\n",
       "      <td>1</td>\n",
       "      <td>0.0</td>\n",
       "      <td>0</td>\n",
       "      <td>0.0</td>\n",
       "      <td>107934.039062</td>\n",
       "      <td>612.0</td>\n",
       "      <td>1.0</td>\n",
       "      <td>1.0</td>\n",
       "      <td>33070.281250</td>\n",
       "      <td>18690.929688</td>\n",
       "      <td>73</td>\n",
       "      <td>544.0</td>\n",
       "      <td>2</td>\n",
       "      <td>1</td>\n",
       "      <td>1</td>\n",
       "    </tr>\n",
       "    <tr>\n",
       "      <th>1</th>\n",
       "      <td>29</td>\n",
       "      <td>0</td>\n",
       "      <td>0.0</td>\n",
       "      <td>0</td>\n",
       "      <td>0.0</td>\n",
       "      <td>109862.617188</td>\n",
       "      <td>2771.0</td>\n",
       "      <td>2.0</td>\n",
       "      <td>0.0</td>\n",
       "      <td>15329.530273</td>\n",
       "      <td>37745.191406</td>\n",
       "      <td>52</td>\n",
       "      <td>857.0</td>\n",
       "      <td>0</td>\n",
       "      <td>0</td>\n",
       "      <td>0</td>\n",
       "    </tr>\n",
       "    <tr>\n",
       "      <th>2</th>\n",
       "      <td>37</td>\n",
       "      <td>0</td>\n",
       "      <td>0.0</td>\n",
       "      <td>0</td>\n",
       "      <td>0.0</td>\n",
       "      <td>230153.171875</td>\n",
       "      <td>204.0</td>\n",
       "      <td>2.0</td>\n",
       "      <td>0.0</td>\n",
       "      <td>48416.601562</td>\n",
       "      <td>41598.359375</td>\n",
       "      <td>43</td>\n",
       "      <td>650.0</td>\n",
       "      <td>0</td>\n",
       "      <td>0</td>\n",
       "      <td>0</td>\n",
       "    </tr>\n",
       "    <tr>\n",
       "      <th>3</th>\n",
       "      <td>39</td>\n",
       "      <td>1</td>\n",
       "      <td>0.0</td>\n",
       "      <td>0</td>\n",
       "      <td>0.0</td>\n",
       "      <td>122325.820312</td>\n",
       "      <td>11941.0</td>\n",
       "      <td>2.0</td>\n",
       "      <td>0.0</td>\n",
       "      <td>22574.359375</td>\n",
       "      <td>32627.759766</td>\n",
       "      <td>20</td>\n",
       "      <td>754.0</td>\n",
       "      <td>0</td>\n",
       "      <td>0</td>\n",
       "      <td>0</td>\n",
       "    </tr>\n",
       "    <tr>\n",
       "      <th>4</th>\n",
       "      <td>46</td>\n",
       "      <td>0</td>\n",
       "      <td>1.0</td>\n",
       "      <td>0</td>\n",
       "      <td>0.0</td>\n",
       "      <td>387286.000000</td>\n",
       "      <td>1459.0</td>\n",
       "      <td>1.0</td>\n",
       "      <td>0.0</td>\n",
       "      <td>38282.949219</td>\n",
       "      <td>52950.640625</td>\n",
       "      <td>75</td>\n",
       "      <td>927.0</td>\n",
       "      <td>0</td>\n",
       "      <td>0</td>\n",
       "      <td>0</td>\n",
       "    </tr>\n",
       "  </tbody>\n",
       "</table>\n",
       "</div>"
      ],
      "text/plain": [
       "   age  gender  owns_car  owns_house  no_of_children  net_yearly_income  \\\n",
       "0   46       1       0.0           0             0.0      107934.039062   \n",
       "1   29       0       0.0           0             0.0      109862.617188   \n",
       "2   37       0       0.0           0             0.0      230153.171875   \n",
       "3   39       1       0.0           0             0.0      122325.820312   \n",
       "4   46       0       1.0           0             0.0      387286.000000   \n",
       "\n",
       "   no_of_days_employed  total_family_members  migrant_worker  \\\n",
       "0                612.0                   1.0             1.0   \n",
       "1               2771.0                   2.0             0.0   \n",
       "2                204.0                   2.0             0.0   \n",
       "3              11941.0                   2.0             0.0   \n",
       "4               1459.0                   1.0             0.0   \n",
       "\n",
       "   yearly_debt_payments  credit_limit  credit_limit_used(%)  credit_score  \\\n",
       "0          33070.281250  18690.929688                    73         544.0   \n",
       "1          15329.530273  37745.191406                    52         857.0   \n",
       "2          48416.601562  41598.359375                    43         650.0   \n",
       "3          22574.359375  32627.759766                    20         754.0   \n",
       "4          38282.949219  52950.640625                    75         927.0   \n",
       "\n",
       "   prev_defaults  default_in_last_6months  credit_card_default  \n",
       "0              2                        1                    1  \n",
       "1              0                        0                    0  \n",
       "2              0                        0                    0  \n",
       "3              0                        0                    0  \n",
       "4              0                        0                    0  "
      ]
     },
     "execution_count": 23,
     "metadata": {},
     "output_type": "execute_result"
    }
   ],
   "source": [
    "cleantrain.head()"
   ]
  },
  {
   "cell_type": "code",
   "execution_count": 24,
   "id": "05b5b1df",
   "metadata": {
    "execution": {
     "iopub.execute_input": "2021-12-05T07:13:23.732985Z",
     "iopub.status.busy": "2021-12-05T07:13:23.732332Z",
     "iopub.status.idle": "2021-12-05T07:13:23.765057Z",
     "shell.execute_reply": "2021-12-05T07:13:23.765531Z",
     "shell.execute_reply.started": "2021-12-05T06:57:19.184275Z"
    },
    "id": "eiJ1EicvKvij",
    "outputId": "6654a48f-1019-4791-8b83-c7087d5dfb7d",
    "papermill": {
     "duration": 0.071944,
     "end_time": "2021-12-05T07:13:23.765697",
     "exception": false,
     "start_time": "2021-12-05T07:13:23.693753",
     "status": "completed"
    },
    "tags": []
   },
   "outputs": [
    {
     "data": {
      "text/html": [
       "<div>\n",
       "<style scoped>\n",
       "    .dataframe tbody tr th:only-of-type {\n",
       "        vertical-align: middle;\n",
       "    }\n",
       "\n",
       "    .dataframe tbody tr th {\n",
       "        vertical-align: top;\n",
       "    }\n",
       "\n",
       "    .dataframe thead th {\n",
       "        text-align: right;\n",
       "    }\n",
       "</style>\n",
       "<table border=\"1\" class=\"dataframe\">\n",
       "  <thead>\n",
       "    <tr style=\"text-align: right;\">\n",
       "      <th></th>\n",
       "      <th>age</th>\n",
       "      <th>gender</th>\n",
       "      <th>owns_car</th>\n",
       "      <th>owns_house</th>\n",
       "      <th>no_of_children</th>\n",
       "      <th>net_yearly_income</th>\n",
       "      <th>no_of_days_employed</th>\n",
       "      <th>total_family_members</th>\n",
       "      <th>migrant_worker</th>\n",
       "      <th>yearly_debt_payments</th>\n",
       "      <th>credit_limit</th>\n",
       "      <th>credit_limit_used(%)</th>\n",
       "      <th>credit_score</th>\n",
       "      <th>prev_defaults</th>\n",
       "      <th>default_in_last_6months</th>\n",
       "      <th>credit_card_default</th>\n",
       "    </tr>\n",
       "  </thead>\n",
       "  <tbody>\n",
       "    <tr>\n",
       "      <th>0</th>\n",
       "      <td>46</td>\n",
       "      <td>1</td>\n",
       "      <td>0.0</td>\n",
       "      <td>0</td>\n",
       "      <td>0.0</td>\n",
       "      <td>107934.0</td>\n",
       "      <td>612.0</td>\n",
       "      <td>1.0</td>\n",
       "      <td>1.0</td>\n",
       "      <td>33070.0</td>\n",
       "      <td>18691.0</td>\n",
       "      <td>73</td>\n",
       "      <td>544.0</td>\n",
       "      <td>2</td>\n",
       "      <td>1</td>\n",
       "      <td>1</td>\n",
       "    </tr>\n",
       "    <tr>\n",
       "      <th>1</th>\n",
       "      <td>29</td>\n",
       "      <td>0</td>\n",
       "      <td>0.0</td>\n",
       "      <td>0</td>\n",
       "      <td>0.0</td>\n",
       "      <td>109863.0</td>\n",
       "      <td>2771.0</td>\n",
       "      <td>2.0</td>\n",
       "      <td>0.0</td>\n",
       "      <td>15330.0</td>\n",
       "      <td>37745.0</td>\n",
       "      <td>52</td>\n",
       "      <td>857.0</td>\n",
       "      <td>0</td>\n",
       "      <td>0</td>\n",
       "      <td>0</td>\n",
       "    </tr>\n",
       "    <tr>\n",
       "      <th>2</th>\n",
       "      <td>37</td>\n",
       "      <td>0</td>\n",
       "      <td>0.0</td>\n",
       "      <td>0</td>\n",
       "      <td>0.0</td>\n",
       "      <td>230153.0</td>\n",
       "      <td>204.0</td>\n",
       "      <td>2.0</td>\n",
       "      <td>0.0</td>\n",
       "      <td>48417.0</td>\n",
       "      <td>41598.0</td>\n",
       "      <td>43</td>\n",
       "      <td>650.0</td>\n",
       "      <td>0</td>\n",
       "      <td>0</td>\n",
       "      <td>0</td>\n",
       "    </tr>\n",
       "    <tr>\n",
       "      <th>3</th>\n",
       "      <td>39</td>\n",
       "      <td>1</td>\n",
       "      <td>0.0</td>\n",
       "      <td>0</td>\n",
       "      <td>0.0</td>\n",
       "      <td>122326.0</td>\n",
       "      <td>11941.0</td>\n",
       "      <td>2.0</td>\n",
       "      <td>0.0</td>\n",
       "      <td>22574.0</td>\n",
       "      <td>32628.0</td>\n",
       "      <td>20</td>\n",
       "      <td>754.0</td>\n",
       "      <td>0</td>\n",
       "      <td>0</td>\n",
       "      <td>0</td>\n",
       "    </tr>\n",
       "    <tr>\n",
       "      <th>4</th>\n",
       "      <td>46</td>\n",
       "      <td>0</td>\n",
       "      <td>1.0</td>\n",
       "      <td>0</td>\n",
       "      <td>0.0</td>\n",
       "      <td>387286.0</td>\n",
       "      <td>1459.0</td>\n",
       "      <td>1.0</td>\n",
       "      <td>0.0</td>\n",
       "      <td>38283.0</td>\n",
       "      <td>52951.0</td>\n",
       "      <td>75</td>\n",
       "      <td>927.0</td>\n",
       "      <td>0</td>\n",
       "      <td>0</td>\n",
       "      <td>0</td>\n",
       "    </tr>\n",
       "    <tr>\n",
       "      <th>...</th>\n",
       "      <td>...</td>\n",
       "      <td>...</td>\n",
       "      <td>...</td>\n",
       "      <td>...</td>\n",
       "      <td>...</td>\n",
       "      <td>...</td>\n",
       "      <td>...</td>\n",
       "      <td>...</td>\n",
       "      <td>...</td>\n",
       "      <td>...</td>\n",
       "      <td>...</td>\n",
       "      <td>...</td>\n",
       "      <td>...</td>\n",
       "      <td>...</td>\n",
       "      <td>...</td>\n",
       "      <td>...</td>\n",
       "    </tr>\n",
       "    <tr>\n",
       "      <th>45523</th>\n",
       "      <td>55</td>\n",
       "      <td>1</td>\n",
       "      <td>0.0</td>\n",
       "      <td>1</td>\n",
       "      <td>2.0</td>\n",
       "      <td>96208.0</td>\n",
       "      <td>117.0</td>\n",
       "      <td>4.0</td>\n",
       "      <td>0.0</td>\n",
       "      <td>11230.0</td>\n",
       "      <td>29664.0</td>\n",
       "      <td>82</td>\n",
       "      <td>907.0</td>\n",
       "      <td>0</td>\n",
       "      <td>0</td>\n",
       "      <td>0</td>\n",
       "    </tr>\n",
       "    <tr>\n",
       "      <th>45524</th>\n",
       "      <td>31</td>\n",
       "      <td>1</td>\n",
       "      <td>0.0</td>\n",
       "      <td>0</td>\n",
       "      <td>0.0</td>\n",
       "      <td>383477.0</td>\n",
       "      <td>966.0</td>\n",
       "      <td>2.0</td>\n",
       "      <td>1.0</td>\n",
       "      <td>43370.0</td>\n",
       "      <td>139947.0</td>\n",
       "      <td>32</td>\n",
       "      <td>679.0</td>\n",
       "      <td>0</td>\n",
       "      <td>0</td>\n",
       "      <td>0</td>\n",
       "    </tr>\n",
       "    <tr>\n",
       "      <th>45525</th>\n",
       "      <td>27</td>\n",
       "      <td>1</td>\n",
       "      <td>0.0</td>\n",
       "      <td>0</td>\n",
       "      <td>0.0</td>\n",
       "      <td>260052.0</td>\n",
       "      <td>1420.0</td>\n",
       "      <td>2.0</td>\n",
       "      <td>0.0</td>\n",
       "      <td>22708.0</td>\n",
       "      <td>83962.0</td>\n",
       "      <td>46</td>\n",
       "      <td>727.0</td>\n",
       "      <td>0</td>\n",
       "      <td>0</td>\n",
       "      <td>0</td>\n",
       "    </tr>\n",
       "    <tr>\n",
       "      <th>45526</th>\n",
       "      <td>32</td>\n",
       "      <td>0</td>\n",
       "      <td>1.0</td>\n",
       "      <td>1</td>\n",
       "      <td>0.0</td>\n",
       "      <td>157363.0</td>\n",
       "      <td>2457.0</td>\n",
       "      <td>2.0</td>\n",
       "      <td>0.0</td>\n",
       "      <td>20150.0</td>\n",
       "      <td>25539.0</td>\n",
       "      <td>92</td>\n",
       "      <td>805.0</td>\n",
       "      <td>0</td>\n",
       "      <td>0</td>\n",
       "      <td>0</td>\n",
       "    </tr>\n",
       "    <tr>\n",
       "      <th>45527</th>\n",
       "      <td>38</td>\n",
       "      <td>0</td>\n",
       "      <td>0.0</td>\n",
       "      <td>0</td>\n",
       "      <td>1.0</td>\n",
       "      <td>316896.0</td>\n",
       "      <td>1210.0</td>\n",
       "      <td>3.0</td>\n",
       "      <td>0.0</td>\n",
       "      <td>34604.0</td>\n",
       "      <td>36631.0</td>\n",
       "      <td>26</td>\n",
       "      <td>682.0</td>\n",
       "      <td>0</td>\n",
       "      <td>0</td>\n",
       "      <td>0</td>\n",
       "    </tr>\n",
       "  </tbody>\n",
       "</table>\n",
       "<p>45528 rows × 16 columns</p>\n",
       "</div>"
      ],
      "text/plain": [
       "       age  gender  owns_car  owns_house  no_of_children  net_yearly_income  \\\n",
       "0       46       1       0.0           0             0.0           107934.0   \n",
       "1       29       0       0.0           0             0.0           109863.0   \n",
       "2       37       0       0.0           0             0.0           230153.0   \n",
       "3       39       1       0.0           0             0.0           122326.0   \n",
       "4       46       0       1.0           0             0.0           387286.0   \n",
       "...    ...     ...       ...         ...             ...                ...   \n",
       "45523   55       1       0.0           1             2.0            96208.0   \n",
       "45524   31       1       0.0           0             0.0           383477.0   \n",
       "45525   27       1       0.0           0             0.0           260052.0   \n",
       "45526   32       0       1.0           1             0.0           157363.0   \n",
       "45527   38       0       0.0           0             1.0           316896.0   \n",
       "\n",
       "       no_of_days_employed  total_family_members  migrant_worker  \\\n",
       "0                    612.0                   1.0             1.0   \n",
       "1                   2771.0                   2.0             0.0   \n",
       "2                    204.0                   2.0             0.0   \n",
       "3                  11941.0                   2.0             0.0   \n",
       "4                   1459.0                   1.0             0.0   \n",
       "...                    ...                   ...             ...   \n",
       "45523                117.0                   4.0             0.0   \n",
       "45524                966.0                   2.0             1.0   \n",
       "45525               1420.0                   2.0             0.0   \n",
       "45526               2457.0                   2.0             0.0   \n",
       "45527               1210.0                   3.0             0.0   \n",
       "\n",
       "       yearly_debt_payments  credit_limit  credit_limit_used(%)  credit_score  \\\n",
       "0                   33070.0       18691.0                    73         544.0   \n",
       "1                   15330.0       37745.0                    52         857.0   \n",
       "2                   48417.0       41598.0                    43         650.0   \n",
       "3                   22574.0       32628.0                    20         754.0   \n",
       "4                   38283.0       52951.0                    75         927.0   \n",
       "...                     ...           ...                   ...           ...   \n",
       "45523               11230.0       29664.0                    82         907.0   \n",
       "45524               43370.0      139947.0                    32         679.0   \n",
       "45525               22708.0       83962.0                    46         727.0   \n",
       "45526               20150.0       25539.0                    92         805.0   \n",
       "45527               34604.0       36631.0                    26         682.0   \n",
       "\n",
       "       prev_defaults  default_in_last_6months  credit_card_default  \n",
       "0                  2                        1                    1  \n",
       "1                  0                        0                    0  \n",
       "2                  0                        0                    0  \n",
       "3                  0                        0                    0  \n",
       "4                  0                        0                    0  \n",
       "...              ...                      ...                  ...  \n",
       "45523              0                        0                    0  \n",
       "45524              0                        0                    0  \n",
       "45525              0                        0                    0  \n",
       "45526              0                        0                    0  \n",
       "45527              0                        0                    0  \n",
       "\n",
       "[45528 rows x 16 columns]"
      ]
     },
     "execution_count": 24,
     "metadata": {},
     "output_type": "execute_result"
    }
   ],
   "source": [
    "cleantrain.round(0)\n",
    "#cleantest.astype('int', errors='ignore')"
   ]
  },
  {
   "cell_type": "code",
   "execution_count": 25,
   "id": "dbbe5f0a",
   "metadata": {
    "execution": {
     "iopub.execute_input": "2021-12-05T07:13:23.843145Z",
     "iopub.status.busy": "2021-12-05T07:13:23.842570Z",
     "iopub.status.idle": "2021-12-05T07:13:23.870568Z",
     "shell.execute_reply": "2021-12-05T07:13:23.871080Z",
     "shell.execute_reply.started": "2021-12-05T06:57:19.234213Z"
    },
    "id": "48QAzSwZtvdx",
    "outputId": "bcd17cf2-d282-46dd-e960-aadb74faf966",
    "papermill": {
     "duration": 0.067899,
     "end_time": "2021-12-05T07:13:23.871285",
     "exception": false,
     "start_time": "2021-12-05T07:13:23.803386",
     "status": "completed"
    },
    "tags": []
   },
   "outputs": [
    {
     "data": {
      "text/html": [
       "<div>\n",
       "<style scoped>\n",
       "    .dataframe tbody tr th:only-of-type {\n",
       "        vertical-align: middle;\n",
       "    }\n",
       "\n",
       "    .dataframe tbody tr th {\n",
       "        vertical-align: top;\n",
       "    }\n",
       "\n",
       "    .dataframe thead th {\n",
       "        text-align: right;\n",
       "    }\n",
       "</style>\n",
       "<table border=\"1\" class=\"dataframe\">\n",
       "  <thead>\n",
       "    <tr style=\"text-align: right;\">\n",
       "      <th></th>\n",
       "      <th>age</th>\n",
       "      <th>gender</th>\n",
       "      <th>owns_car</th>\n",
       "      <th>owns_house</th>\n",
       "      <th>no_of_children</th>\n",
       "      <th>net_yearly_income</th>\n",
       "      <th>no_of_days_employed</th>\n",
       "      <th>total_family_members</th>\n",
       "      <th>migrant_worker</th>\n",
       "      <th>yearly_debt_payments</th>\n",
       "      <th>credit_limit</th>\n",
       "      <th>credit_limit_used(%)</th>\n",
       "      <th>credit_score</th>\n",
       "      <th>prev_defaults</th>\n",
       "      <th>default_in_last_6months</th>\n",
       "    </tr>\n",
       "  </thead>\n",
       "  <tbody>\n",
       "    <tr>\n",
       "      <th>0</th>\n",
       "      <td>52</td>\n",
       "      <td>1</td>\n",
       "      <td>1</td>\n",
       "      <td>1</td>\n",
       "      <td>0.0</td>\n",
       "      <td>232641.0</td>\n",
       "      <td>998.0</td>\n",
       "      <td>2.0</td>\n",
       "      <td>0.0</td>\n",
       "      <td>14407.0</td>\n",
       "      <td>26524.0</td>\n",
       "      <td>4</td>\n",
       "      <td>779.0</td>\n",
       "      <td>0</td>\n",
       "      <td>0</td>\n",
       "    </tr>\n",
       "    <tr>\n",
       "      <th>1</th>\n",
       "      <td>48</td>\n",
       "      <td>1</td>\n",
       "      <td>0</td>\n",
       "      <td>1</td>\n",
       "      <td>1.0</td>\n",
       "      <td>284397.0</td>\n",
       "      <td>1338.0</td>\n",
       "      <td>3.0</td>\n",
       "      <td>0.0</td>\n",
       "      <td>57480.0</td>\n",
       "      <td>68999.0</td>\n",
       "      <td>70</td>\n",
       "      <td>806.0</td>\n",
       "      <td>0</td>\n",
       "      <td>0</td>\n",
       "    </tr>\n",
       "    <tr>\n",
       "      <th>2</th>\n",
       "      <td>50</td>\n",
       "      <td>1</td>\n",
       "      <td>0</td>\n",
       "      <td>1</td>\n",
       "      <td>1.0</td>\n",
       "      <td>149419.0</td>\n",
       "      <td>1210.0</td>\n",
       "      <td>3.0</td>\n",
       "      <td>0.0</td>\n",
       "      <td>21611.0</td>\n",
       "      <td>25188.0</td>\n",
       "      <td>71</td>\n",
       "      <td>528.0</td>\n",
       "      <td>2</td>\n",
       "      <td>0</td>\n",
       "    </tr>\n",
       "    <tr>\n",
       "      <th>3</th>\n",
       "      <td>30</td>\n",
       "      <td>1</td>\n",
       "      <td>0</td>\n",
       "      <td>1</td>\n",
       "      <td>1.0</td>\n",
       "      <td>160438.0</td>\n",
       "      <td>503.0</td>\n",
       "      <td>2.0</td>\n",
       "      <td>1.0</td>\n",
       "      <td>28991.0</td>\n",
       "      <td>29179.0</td>\n",
       "      <td>9</td>\n",
       "      <td>815.0</td>\n",
       "      <td>0</td>\n",
       "      <td>0</td>\n",
       "    </tr>\n",
       "    <tr>\n",
       "      <th>4</th>\n",
       "      <td>52</td>\n",
       "      <td>0</td>\n",
       "      <td>0</td>\n",
       "      <td>0</td>\n",
       "      <td>0.0</td>\n",
       "      <td>233480.0</td>\n",
       "      <td>157.0</td>\n",
       "      <td>2.0</td>\n",
       "      <td>1.0</td>\n",
       "      <td>54214.0</td>\n",
       "      <td>82332.0</td>\n",
       "      <td>82</td>\n",
       "      <td>613.0</td>\n",
       "      <td>1</td>\n",
       "      <td>1</td>\n",
       "    </tr>\n",
       "    <tr>\n",
       "      <th>...</th>\n",
       "      <td>...</td>\n",
       "      <td>...</td>\n",
       "      <td>...</td>\n",
       "      <td>...</td>\n",
       "      <td>...</td>\n",
       "      <td>...</td>\n",
       "      <td>...</td>\n",
       "      <td>...</td>\n",
       "      <td>...</td>\n",
       "      <td>...</td>\n",
       "      <td>...</td>\n",
       "      <td>...</td>\n",
       "      <td>...</td>\n",
       "      <td>...</td>\n",
       "      <td>...</td>\n",
       "    </tr>\n",
       "    <tr>\n",
       "      <th>11378</th>\n",
       "      <td>53</td>\n",
       "      <td>1</td>\n",
       "      <td>0</td>\n",
       "      <td>1</td>\n",
       "      <td>0.0</td>\n",
       "      <td>266824.0</td>\n",
       "      <td>3051.0</td>\n",
       "      <td>1.0</td>\n",
       "      <td>0.0</td>\n",
       "      <td>17792.0</td>\n",
       "      <td>64484.0</td>\n",
       "      <td>74</td>\n",
       "      <td>823.0</td>\n",
       "      <td>0</td>\n",
       "      <td>0</td>\n",
       "    </tr>\n",
       "    <tr>\n",
       "      <th>11379</th>\n",
       "      <td>33</td>\n",
       "      <td>1</td>\n",
       "      <td>1</td>\n",
       "      <td>1</td>\n",
       "      <td>0.0</td>\n",
       "      <td>124311.0</td>\n",
       "      <td>365248.0</td>\n",
       "      <td>1.0</td>\n",
       "      <td>0.0</td>\n",
       "      <td>26577.0</td>\n",
       "      <td>29852.0</td>\n",
       "      <td>60</td>\n",
       "      <td>712.0</td>\n",
       "      <td>0</td>\n",
       "      <td>0</td>\n",
       "    </tr>\n",
       "    <tr>\n",
       "      <th>11380</th>\n",
       "      <td>27</td>\n",
       "      <td>0</td>\n",
       "      <td>1</td>\n",
       "      <td>0</td>\n",
       "      <td>1.0</td>\n",
       "      <td>364653.0</td>\n",
       "      <td>3431.0</td>\n",
       "      <td>3.0</td>\n",
       "      <td>0.0</td>\n",
       "      <td>28659.0</td>\n",
       "      <td>69337.0</td>\n",
       "      <td>67</td>\n",
       "      <td>674.0</td>\n",
       "      <td>0</td>\n",
       "      <td>0</td>\n",
       "    </tr>\n",
       "    <tr>\n",
       "      <th>11381</th>\n",
       "      <td>36</td>\n",
       "      <td>1</td>\n",
       "      <td>0</td>\n",
       "      <td>0</td>\n",
       "      <td>0.0</td>\n",
       "      <td>128769.0</td>\n",
       "      <td>16320.0</td>\n",
       "      <td>1.0</td>\n",
       "      <td>0.0</td>\n",
       "      <td>11527.0</td>\n",
       "      <td>26908.0</td>\n",
       "      <td>17</td>\n",
       "      <td>684.0</td>\n",
       "      <td>0</td>\n",
       "      <td>0</td>\n",
       "    </tr>\n",
       "    <tr>\n",
       "      <th>11382</th>\n",
       "      <td>45</td>\n",
       "      <td>1</td>\n",
       "      <td>0</td>\n",
       "      <td>0</td>\n",
       "      <td>0.0</td>\n",
       "      <td>158543.0</td>\n",
       "      <td>9443.0</td>\n",
       "      <td>2.0</td>\n",
       "      <td>0.0</td>\n",
       "      <td>30291.0</td>\n",
       "      <td>26072.0</td>\n",
       "      <td>64</td>\n",
       "      <td>930.0</td>\n",
       "      <td>0</td>\n",
       "      <td>0</td>\n",
       "    </tr>\n",
       "  </tbody>\n",
       "</table>\n",
       "<p>11383 rows × 15 columns</p>\n",
       "</div>"
      ],
      "text/plain": [
       "       age  gender  owns_car  owns_house  no_of_children  net_yearly_income  \\\n",
       "0       52       1         1           1             0.0           232641.0   \n",
       "1       48       1         0           1             1.0           284397.0   \n",
       "2       50       1         0           1             1.0           149419.0   \n",
       "3       30       1         0           1             1.0           160438.0   \n",
       "4       52       0         0           0             0.0           233480.0   \n",
       "...    ...     ...       ...         ...             ...                ...   \n",
       "11378   53       1         0           1             0.0           266824.0   \n",
       "11379   33       1         1           1             0.0           124311.0   \n",
       "11380   27       0         1           0             1.0           364653.0   \n",
       "11381   36       1         0           0             0.0           128769.0   \n",
       "11382   45       1         0           0             0.0           158543.0   \n",
       "\n",
       "       no_of_days_employed  total_family_members  migrant_worker  \\\n",
       "0                    998.0                   2.0             0.0   \n",
       "1                   1338.0                   3.0             0.0   \n",
       "2                   1210.0                   3.0             0.0   \n",
       "3                    503.0                   2.0             1.0   \n",
       "4                    157.0                   2.0             1.0   \n",
       "...                    ...                   ...             ...   \n",
       "11378               3051.0                   1.0             0.0   \n",
       "11379             365248.0                   1.0             0.0   \n",
       "11380               3431.0                   3.0             0.0   \n",
       "11381              16320.0                   1.0             0.0   \n",
       "11382               9443.0                   2.0             0.0   \n",
       "\n",
       "       yearly_debt_payments  credit_limit  credit_limit_used(%)  credit_score  \\\n",
       "0                   14407.0       26524.0                     4         779.0   \n",
       "1                   57480.0       68999.0                    70         806.0   \n",
       "2                   21611.0       25188.0                    71         528.0   \n",
       "3                   28991.0       29179.0                     9         815.0   \n",
       "4                   54214.0       82332.0                    82         613.0   \n",
       "...                     ...           ...                   ...           ...   \n",
       "11378               17792.0       64484.0                    74         823.0   \n",
       "11379               26577.0       29852.0                    60         712.0   \n",
       "11380               28659.0       69337.0                    67         674.0   \n",
       "11381               11527.0       26908.0                    17         684.0   \n",
       "11382               30291.0       26072.0                    64         930.0   \n",
       "\n",
       "       prev_defaults  default_in_last_6months  \n",
       "0                  0                        0  \n",
       "1                  0                        0  \n",
       "2                  2                        0  \n",
       "3                  0                        0  \n",
       "4                  1                        1  \n",
       "...              ...                      ...  \n",
       "11378              0                        0  \n",
       "11379              0                        0  \n",
       "11380              0                        0  \n",
       "11381              0                        0  \n",
       "11382              0                        0  \n",
       "\n",
       "[11383 rows x 15 columns]"
      ]
     },
     "execution_count": 25,
     "metadata": {},
     "output_type": "execute_result"
    }
   ],
   "source": [
    "cleantest.round(0)"
   ]
  },
  {
   "cell_type": "code",
   "execution_count": 26,
   "id": "fbdd0b0b",
   "metadata": {
    "execution": {
     "iopub.execute_input": "2021-12-05T07:13:24.013165Z",
     "iopub.status.busy": "2021-12-05T07:13:24.012103Z",
     "iopub.status.idle": "2021-12-05T07:13:24.030619Z",
     "shell.execute_reply": "2021-12-05T07:13:24.031239Z",
     "shell.execute_reply.started": "2021-12-05T06:57:19.273605Z"
    },
    "id": "SZn5tcURMQSk",
    "outputId": "5646ac4f-24cc-422a-c190-6996a7d9a264",
    "papermill": {
     "duration": 0.063918,
     "end_time": "2021-12-05T07:13:24.031436",
     "exception": false,
     "start_time": "2021-12-05T07:13:23.967518",
     "status": "completed"
    },
    "tags": []
   },
   "outputs": [
    {
     "data": {
      "text/html": [
       "<div>\n",
       "<style scoped>\n",
       "    .dataframe tbody tr th:only-of-type {\n",
       "        vertical-align: middle;\n",
       "    }\n",
       "\n",
       "    .dataframe tbody tr th {\n",
       "        vertical-align: top;\n",
       "    }\n",
       "\n",
       "    .dataframe thead th {\n",
       "        text-align: right;\n",
       "    }\n",
       "</style>\n",
       "<table border=\"1\" class=\"dataframe\">\n",
       "  <thead>\n",
       "    <tr style=\"text-align: right;\">\n",
       "      <th></th>\n",
       "      <th>age</th>\n",
       "      <th>gender</th>\n",
       "      <th>owns_car</th>\n",
       "      <th>owns_house</th>\n",
       "      <th>no_of_children</th>\n",
       "      <th>net_yearly_income</th>\n",
       "      <th>no_of_days_employed</th>\n",
       "      <th>total_family_members</th>\n",
       "      <th>migrant_worker</th>\n",
       "      <th>yearly_debt_payments</th>\n",
       "      <th>credit_limit</th>\n",
       "      <th>credit_limit_used(%)</th>\n",
       "      <th>credit_score</th>\n",
       "      <th>prev_defaults</th>\n",
       "      <th>default_in_last_6months</th>\n",
       "      <th>credit_card_default</th>\n",
       "    </tr>\n",
       "  </thead>\n",
       "  <tbody>\n",
       "    <tr>\n",
       "      <th>0</th>\n",
       "      <td>46</td>\n",
       "      <td>1</td>\n",
       "      <td>0.0</td>\n",
       "      <td>0</td>\n",
       "      <td>0.0</td>\n",
       "      <td>107934.039062</td>\n",
       "      <td>612.0</td>\n",
       "      <td>1.0</td>\n",
       "      <td>1.0</td>\n",
       "      <td>33070.281250</td>\n",
       "      <td>18690.929688</td>\n",
       "      <td>73</td>\n",
       "      <td>544.0</td>\n",
       "      <td>2</td>\n",
       "      <td>1</td>\n",
       "      <td>1</td>\n",
       "    </tr>\n",
       "    <tr>\n",
       "      <th>1</th>\n",
       "      <td>29</td>\n",
       "      <td>0</td>\n",
       "      <td>0.0</td>\n",
       "      <td>0</td>\n",
       "      <td>0.0</td>\n",
       "      <td>109862.617188</td>\n",
       "      <td>2771.0</td>\n",
       "      <td>2.0</td>\n",
       "      <td>0.0</td>\n",
       "      <td>15329.530273</td>\n",
       "      <td>37745.191406</td>\n",
       "      <td>52</td>\n",
       "      <td>857.0</td>\n",
       "      <td>0</td>\n",
       "      <td>0</td>\n",
       "      <td>0</td>\n",
       "    </tr>\n",
       "    <tr>\n",
       "      <th>2</th>\n",
       "      <td>37</td>\n",
       "      <td>0</td>\n",
       "      <td>0.0</td>\n",
       "      <td>0</td>\n",
       "      <td>0.0</td>\n",
       "      <td>230153.171875</td>\n",
       "      <td>204.0</td>\n",
       "      <td>2.0</td>\n",
       "      <td>0.0</td>\n",
       "      <td>48416.601562</td>\n",
       "      <td>41598.359375</td>\n",
       "      <td>43</td>\n",
       "      <td>650.0</td>\n",
       "      <td>0</td>\n",
       "      <td>0</td>\n",
       "      <td>0</td>\n",
       "    </tr>\n",
       "    <tr>\n",
       "      <th>3</th>\n",
       "      <td>39</td>\n",
       "      <td>1</td>\n",
       "      <td>0.0</td>\n",
       "      <td>0</td>\n",
       "      <td>0.0</td>\n",
       "      <td>122325.820312</td>\n",
       "      <td>11941.0</td>\n",
       "      <td>2.0</td>\n",
       "      <td>0.0</td>\n",
       "      <td>22574.359375</td>\n",
       "      <td>32627.759766</td>\n",
       "      <td>20</td>\n",
       "      <td>754.0</td>\n",
       "      <td>0</td>\n",
       "      <td>0</td>\n",
       "      <td>0</td>\n",
       "    </tr>\n",
       "    <tr>\n",
       "      <th>4</th>\n",
       "      <td>46</td>\n",
       "      <td>0</td>\n",
       "      <td>1.0</td>\n",
       "      <td>0</td>\n",
       "      <td>0.0</td>\n",
       "      <td>387286.000000</td>\n",
       "      <td>1459.0</td>\n",
       "      <td>1.0</td>\n",
       "      <td>0.0</td>\n",
       "      <td>38282.949219</td>\n",
       "      <td>52950.640625</td>\n",
       "      <td>75</td>\n",
       "      <td>927.0</td>\n",
       "      <td>0</td>\n",
       "      <td>0</td>\n",
       "      <td>0</td>\n",
       "    </tr>\n",
       "  </tbody>\n",
       "</table>\n",
       "</div>"
      ],
      "text/plain": [
       "   age  gender  owns_car  owns_house  no_of_children  net_yearly_income  \\\n",
       "0   46       1       0.0           0             0.0      107934.039062   \n",
       "1   29       0       0.0           0             0.0      109862.617188   \n",
       "2   37       0       0.0           0             0.0      230153.171875   \n",
       "3   39       1       0.0           0             0.0      122325.820312   \n",
       "4   46       0       1.0           0             0.0      387286.000000   \n",
       "\n",
       "   no_of_days_employed  total_family_members  migrant_worker  \\\n",
       "0                612.0                   1.0             1.0   \n",
       "1               2771.0                   2.0             0.0   \n",
       "2                204.0                   2.0             0.0   \n",
       "3              11941.0                   2.0             0.0   \n",
       "4               1459.0                   1.0             0.0   \n",
       "\n",
       "   yearly_debt_payments  credit_limit  credit_limit_used(%)  credit_score  \\\n",
       "0          33070.281250  18690.929688                    73         544.0   \n",
       "1          15329.530273  37745.191406                    52         857.0   \n",
       "2          48416.601562  41598.359375                    43         650.0   \n",
       "3          22574.359375  32627.759766                    20         754.0   \n",
       "4          38282.949219  52950.640625                    75         927.0   \n",
       "\n",
       "   prev_defaults  default_in_last_6months  credit_card_default  \n",
       "0              2                        1                    1  \n",
       "1              0                        0                    0  \n",
       "2              0                        0                    0  \n",
       "3              0                        0                    0  \n",
       "4              0                        0                    0  "
      ]
     },
     "execution_count": 26,
     "metadata": {},
     "output_type": "execute_result"
    }
   ],
   "source": [
    "cleantrain.head()"
   ]
  },
  {
   "cell_type": "code",
   "execution_count": 27,
   "id": "1e5e23a8",
   "metadata": {
    "execution": {
     "iopub.execute_input": "2021-12-05T07:13:24.126063Z",
     "iopub.status.busy": "2021-12-05T07:13:24.125038Z",
     "iopub.status.idle": "2021-12-05T07:13:24.210854Z",
     "shell.execute_reply": "2021-12-05T07:13:24.210019Z",
     "shell.execute_reply.started": "2021-12-05T06:57:19.296371Z"
    },
    "id": "bNViMSiiGjIy",
    "papermill": {
     "duration": 0.133075,
     "end_time": "2021-12-05T07:13:24.211017",
     "exception": false,
     "start_time": "2021-12-05T07:13:24.077942",
     "status": "completed"
    },
    "tags": []
   },
   "outputs": [],
   "source": [
    "y = cleantrain['credit_card_default']\n",
    "#cleantrain.drop(['customer_id','name','occupation_type','credit_card_default'], axis=1, inplace=True)\n",
    "X = pd.get_dummies(cleantrain.drop('credit_card_default', axis=1))\n",
    "from sklearn.model_selection import train_test_split\n",
    "# Split model train test data\n",
    "X_train, X_val, y_train, y_val = train_test_split(X,y, test_size=0.4, random_state=42)"
   ]
  },
  {
   "cell_type": "code",
   "execution_count": 28,
   "id": "ea71c000",
   "metadata": {
    "execution": {
     "iopub.execute_input": "2021-12-05T07:13:24.295065Z",
     "iopub.status.busy": "2021-12-05T07:13:24.294243Z",
     "iopub.status.idle": "2021-12-05T07:13:24.296854Z",
     "shell.execute_reply": "2021-12-05T07:13:24.296196Z",
     "shell.execute_reply.started": "2021-12-05T06:57:19.330218Z"
    },
    "id": "xTsqoxg7H-_l",
    "papermill": {
     "duration": 0.046652,
     "end_time": "2021-12-05T07:13:24.297004",
     "exception": false,
     "start_time": "2021-12-05T07:13:24.250352",
     "status": "completed"
    },
    "tags": []
   },
   "outputs": [],
   "source": [
    "def fitAndPredict(model):\n",
    "    model.fit(X_train, y_train)\n",
    "    prediction = model.predict(X_val)\n",
    "    return accuracy_score(y_val, prediction)"
   ]
  },
  {
   "cell_type": "code",
   "execution_count": 29,
   "id": "c088ebf7",
   "metadata": {
    "execution": {
     "iopub.execute_input": "2021-12-05T07:13:24.379186Z",
     "iopub.status.busy": "2021-12-05T07:13:24.378475Z",
     "iopub.status.idle": "2021-12-05T07:13:27.899585Z",
     "shell.execute_reply": "2021-12-05T07:13:27.899022Z",
     "shell.execute_reply.started": "2021-12-05T06:57:19.338796Z"
    },
    "id": "z7tvHqaoLFmF",
    "papermill": {
     "duration": 3.56406,
     "end_time": "2021-12-05T07:13:27.899729",
     "exception": false,
     "start_time": "2021-12-05T07:13:24.335669",
     "status": "completed"
    },
    "tags": []
   },
   "outputs": [
    {
     "data": {
      "text/plain": [
       "0.9808368108939161"
      ]
     },
     "execution_count": 29,
     "metadata": {},
     "output_type": "execute_result"
    }
   ],
   "source": [
    "from sklearn.metrics import accuracy_score\n",
    "from sklearn import preprocessing\n",
    "from sklearn.model_selection import cross_val_score\n",
    "from sklearn.ensemble import GradientBoostingClassifier\n",
    "model = GradientBoostingClassifier(min_samples_split=11, min_samples_leaf=3, max_depth=3, max_features=7)\n",
    "fitAndPredict(model)"
   ]
  },
  {
   "cell_type": "code",
   "execution_count": 30,
   "id": "3faba0eb",
   "metadata": {
    "execution": {
     "iopub.execute_input": "2021-12-05T07:13:27.984067Z",
     "iopub.status.busy": "2021-12-05T07:13:27.983377Z",
     "iopub.status.idle": "2021-12-05T07:13:28.026292Z",
     "shell.execute_reply": "2021-12-05T07:13:28.027346Z",
     "shell.execute_reply.started": "2021-12-05T06:57:22.814327Z"
    },
    "id": "tPTWPmzQObtg",
    "papermill": {
     "duration": 0.089143,
     "end_time": "2021-12-05T07:13:28.027650",
     "exception": false,
     "start_time": "2021-12-05T07:13:27.938507",
     "status": "completed"
    },
    "tags": []
   },
   "outputs": [
    {
     "name": "stdout",
     "output_type": "stream",
     "text": [
      "Submission saved\n"
     ]
    }
   ],
   "source": [
    "#cleantest.drop(['customer_id','name','occupation_type'],axis=1,inplace=True)\n",
    "#cleantest.fillna(cleantest.mean())\n",
    "#cleantest = cleantest.fillna(lambda x: x.median())\n",
    "#cleantest= cleantest.astype(int)\n",
    "predict = model.predict(cleantest)\n",
    "output = pd.DataFrame({'customer_id':cust,'credit_card_default': predict})\n",
    "output.to_csv('my_submission.csv', index=False)\n",
    "print(\"Submission saved\")"
   ]
  },
  {
   "cell_type": "code",
   "execution_count": 31,
   "id": "6808a51b",
   "metadata": {
    "execution": {
     "iopub.execute_input": "2021-12-05T07:13:28.114867Z",
     "iopub.status.busy": "2021-12-05T07:13:28.114230Z",
     "iopub.status.idle": "2021-12-05T07:13:28.116700Z",
     "shell.execute_reply": "2021-12-05T07:13:28.117222Z",
     "shell.execute_reply.started": "2021-12-05T06:57:22.876051Z"
    },
    "papermill": {
     "duration": 0.050041,
     "end_time": "2021-12-05T07:13:28.117394",
     "exception": false,
     "start_time": "2021-12-05T07:13:28.067353",
     "status": "completed"
    },
    "tags": []
   },
   "outputs": [
    {
     "data": {
      "text/html": [
       "<div>\n",
       "<style scoped>\n",
       "    .dataframe tbody tr th:only-of-type {\n",
       "        vertical-align: middle;\n",
       "    }\n",
       "\n",
       "    .dataframe tbody tr th {\n",
       "        vertical-align: top;\n",
       "    }\n",
       "\n",
       "    .dataframe thead th {\n",
       "        text-align: right;\n",
       "    }\n",
       "</style>\n",
       "<table border=\"1\" class=\"dataframe\">\n",
       "  <thead>\n",
       "    <tr style=\"text-align: right;\">\n",
       "      <th></th>\n",
       "      <th>customer_id</th>\n",
       "      <th>credit_card_default</th>\n",
       "    </tr>\n",
       "  </thead>\n",
       "  <tbody>\n",
       "    <tr>\n",
       "      <th>0</th>\n",
       "      <td>CST_142525</td>\n",
       "      <td>0</td>\n",
       "    </tr>\n",
       "    <tr>\n",
       "      <th>1</th>\n",
       "      <td>CST_129215</td>\n",
       "      <td>0</td>\n",
       "    </tr>\n",
       "    <tr>\n",
       "      <th>2</th>\n",
       "      <td>CST_138443</td>\n",
       "      <td>1</td>\n",
       "    </tr>\n",
       "    <tr>\n",
       "      <th>3</th>\n",
       "      <td>CST_123812</td>\n",
       "      <td>0</td>\n",
       "    </tr>\n",
       "    <tr>\n",
       "      <th>4</th>\n",
       "      <td>CST_144450</td>\n",
       "      <td>1</td>\n",
       "    </tr>\n",
       "  </tbody>\n",
       "</table>\n",
       "</div>"
      ],
      "text/plain": [
       "  customer_id  credit_card_default\n",
       "0  CST_142525                    0\n",
       "1  CST_129215                    0\n",
       "2  CST_138443                    1\n",
       "3  CST_123812                    0\n",
       "4  CST_144450                    1"
      ]
     },
     "execution_count": 31,
     "metadata": {},
     "output_type": "execute_result"
    }
   ],
   "source": [
    "output.head()"
   ]
  },
  {
   "cell_type": "code",
   "execution_count": 32,
   "id": "ecee1715",
   "metadata": {
    "execution": {
     "iopub.execute_input": "2021-12-05T07:13:28.200035Z",
     "iopub.status.busy": "2021-12-05T07:13:28.199351Z",
     "iopub.status.idle": "2021-12-05T07:13:28.203832Z",
     "shell.execute_reply": "2021-12-05T07:13:28.204316Z",
     "shell.execute_reply.started": "2021-12-05T06:57:22.889888Z"
    },
    "papermill": {
     "duration": 0.047964,
     "end_time": "2021-12-05T07:13:28.204497",
     "exception": false,
     "start_time": "2021-12-05T07:13:28.156533",
     "status": "completed"
    },
    "tags": []
   },
   "outputs": [
    {
     "data": {
      "text/plain": [
       "(11383, 2)"
      ]
     },
     "execution_count": 32,
     "metadata": {},
     "output_type": "execute_result"
    }
   ],
   "source": [
    "output.shape"
   ]
  },
  {
   "cell_type": "code",
   "execution_count": 33,
   "id": "330f8017",
   "metadata": {
    "execution": {
     "iopub.execute_input": "2021-12-05T07:13:28.286840Z",
     "iopub.status.busy": "2021-12-05T07:13:28.286176Z",
     "iopub.status.idle": "2021-12-05T07:13:28.295875Z",
     "shell.execute_reply": "2021-12-05T07:13:28.296458Z",
     "shell.execute_reply.started": "2021-12-05T06:57:22.902194Z"
    },
    "papermill": {
     "duration": 0.052344,
     "end_time": "2021-12-05T07:13:28.296640",
     "exception": false,
     "start_time": "2021-12-05T07:13:28.244296",
     "status": "completed"
    },
    "tags": []
   },
   "outputs": [
    {
     "data": {
      "text/html": [
       "<div>\n",
       "<style scoped>\n",
       "    .dataframe tbody tr th:only-of-type {\n",
       "        vertical-align: middle;\n",
       "    }\n",
       "\n",
       "    .dataframe tbody tr th {\n",
       "        vertical-align: top;\n",
       "    }\n",
       "\n",
       "    .dataframe thead th {\n",
       "        text-align: right;\n",
       "    }\n",
       "</style>\n",
       "<table border=\"1\" class=\"dataframe\">\n",
       "  <thead>\n",
       "    <tr style=\"text-align: right;\">\n",
       "      <th></th>\n",
       "      <th>customer_id</th>\n",
       "      <th>credit_card_default</th>\n",
       "    </tr>\n",
       "  </thead>\n",
       "  <tbody>\n",
       "    <tr>\n",
       "      <th>0</th>\n",
       "      <td>CST_142525</td>\n",
       "      <td>0</td>\n",
       "    </tr>\n",
       "    <tr>\n",
       "      <th>1</th>\n",
       "      <td>CST_129215</td>\n",
       "      <td>0</td>\n",
       "    </tr>\n",
       "    <tr>\n",
       "      <th>2</th>\n",
       "      <td>CST_138443</td>\n",
       "      <td>1</td>\n",
       "    </tr>\n",
       "    <tr>\n",
       "      <th>3</th>\n",
       "      <td>CST_123812</td>\n",
       "      <td>0</td>\n",
       "    </tr>\n",
       "    <tr>\n",
       "      <th>4</th>\n",
       "      <td>CST_144450</td>\n",
       "      <td>1</td>\n",
       "    </tr>\n",
       "    <tr>\n",
       "      <th>...</th>\n",
       "      <td>...</td>\n",
       "      <td>...</td>\n",
       "    </tr>\n",
       "    <tr>\n",
       "      <th>11378</th>\n",
       "      <td>CST_142412</td>\n",
       "      <td>0</td>\n",
       "    </tr>\n",
       "    <tr>\n",
       "      <th>11379</th>\n",
       "      <td>CST_107967</td>\n",
       "      <td>0</td>\n",
       "    </tr>\n",
       "    <tr>\n",
       "      <th>11380</th>\n",
       "      <td>CST_134002</td>\n",
       "      <td>0</td>\n",
       "    </tr>\n",
       "    <tr>\n",
       "      <th>11381</th>\n",
       "      <td>CST_146856</td>\n",
       "      <td>0</td>\n",
       "    </tr>\n",
       "    <tr>\n",
       "      <th>11382</th>\n",
       "      <td>CST_112001</td>\n",
       "      <td>0</td>\n",
       "    </tr>\n",
       "  </tbody>\n",
       "</table>\n",
       "<p>11383 rows × 2 columns</p>\n",
       "</div>"
      ],
      "text/plain": [
       "      customer_id  credit_card_default\n",
       "0      CST_142525                    0\n",
       "1      CST_129215                    0\n",
       "2      CST_138443                    1\n",
       "3      CST_123812                    0\n",
       "4      CST_144450                    1\n",
       "...           ...                  ...\n",
       "11378  CST_142412                    0\n",
       "11379  CST_107967                    0\n",
       "11380  CST_134002                    0\n",
       "11381  CST_146856                    0\n",
       "11382  CST_112001                    0\n",
       "\n",
       "[11383 rows x 2 columns]"
      ]
     },
     "execution_count": 33,
     "metadata": {},
     "output_type": "execute_result"
    }
   ],
   "source": [
    "output"
   ]
  }
 ],
 "metadata": {
  "kernelspec": {
   "display_name": "Python 3",
   "language": "python",
   "name": "python3"
  },
  "language_info": {
   "codemirror_mode": {
    "name": "ipython",
    "version": 3
   },
   "file_extension": ".py",
   "mimetype": "text/x-python",
   "name": "python",
   "nbconvert_exporter": "python",
   "pygments_lexer": "ipython3",
   "version": "3.7.10"
  },
  "papermill": {
   "default_parameters": {},
   "duration": 25.816343,
   "end_time": "2021-12-05T07:13:29.047570",
   "environment_variables": {},
   "exception": null,
   "input_path": "__notebook__.ipynb",
   "output_path": "__notebook__.ipynb",
   "parameters": {},
   "start_time": "2021-12-05T07:13:03.231227",
   "version": "2.3.3"
  }
 },
 "nbformat": 4,
 "nbformat_minor": 5
}
